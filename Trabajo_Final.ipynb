{
  "nbformat": 4,
  "nbformat_minor": 0,
  "metadata": {
    "colab": {
      "name": "Trabajo_Final.ipynb",
      "provenance": [],
      "authorship_tag": "ABX9TyMUteVkjve89igwawXQ9sW9",
      "include_colab_link": true
    },
    "kernelspec": {
      "name": "python3",
      "display_name": "Python 3"
    },
    "language_info": {
      "name": "python"
    }
  },
  "cells": [
    {
      "cell_type": "markdown",
      "metadata": {
        "id": "view-in-github",
        "colab_type": "text"
      },
      "source": [
        "<a href=\"https://colab.research.google.com/github/Coralain10/wv71_tf_202010279_202017572_201319550/blob/main/Trabajo_Final.ipynb\" target=\"_parent\"><img src=\"https://colab.research.google.com/assets/colab-badge.svg\" alt=\"Open In Colab\"/></a>"
      ]
    },
    {
      "cell_type": "markdown",
      "metadata": {
        "id": "BC0HhIWcZsCL"
      },
      "source": [
        "# Lista de adyacencia entre nodos vecinos"
      ]
    },
    {
      "cell_type": "code",
      "metadata": {
        "id": "ANE45SxvW3nJ",
        "colab": {
          "base_uri": "https://localhost:8080/",
          "height": 34
        },
        "outputId": "fbf4f6ad-00cb-4c65-f30f-f22eee7e4cb7"
      },
      "source": [
        "'''\n",
        "56 57 58 59 60 61 62 63\n",
        "48 49 50 51 52 53 54 55\n",
        "40 41 42 43 44 45 46 47\n",
        "32 33 34 35 36 37 38 39\n",
        "24 25 26 27 28 29 30 31\n",
        "16 17 18 19 20 21 22 23\n",
        " 8  9 10 11 12 13 14 15\n",
        " 0  1  2  3  4  5  6  7\n",
        "\n",
        "xy\n",
        "07 17 27 37 47 57 67 77\n",
        "06 16 26 36 46 56 66 76\n",
        "05 15 25 35 45 55 65 75\n",
        "04 14 24 34 44 54 64 74\n",
        "03 13 23 33 43 53 63 73\n",
        "02 12 22 32 42 52 62 72\n",
        "01 11 21 31 41 51 61 71\n",
        "00 10 20 30 40 50 60 70\n",
        "\n",
        "32 => 3+2*8\n",
        "ngrafo = y*ancho + x\n",
        "\n",
        "00 | 01 10 => 0 | 1 8\n",
        "0+1<n 0-1>0 0+ancho<n 0-ancho>0 \n",
        "\n",
        "32 | 33 31 22 42 => 19 | 27 11 18 20\n",
        "19+1<n 19-1>0 19+ancho<n 19-ancho>0 \n",
        "\n",
        "77 | 76 67 => 63 | 55 62\n",
        "63+1<n 63-1>0 63+ancho<n 63-ancho>0 \n",
        "'''\n",
        "''"
      ],
      "execution_count": 3,
      "outputs": [
        {
          "output_type": "execute_result",
          "data": {
            "application/vnd.google.colaboratory.intrinsic+json": {
              "type": "string"
            },
            "text/plain": [
              "''"
            ]
          },
          "metadata": {},
          "execution_count": 3
        }
      ]
    },
    {
      "cell_type": "markdown",
      "metadata": {
        "id": "MZle-dTkDgxz"
      },
      "source": [
        "## Función para unir nodos vecinos\n",
        "* Une los vecinos de abajo, izquierda, derecha y arriba\n",
        "* Los nodos se cuentan desde la esquina inferior izquierda hacia la esquina superior derecha.\n",
        "* Se leen de izquierda a derecha y de abajo a arriba."
      ]
    },
    {
      "cell_type": "code",
      "metadata": {
        "id": "V4F3RLV_Zo1C"
      },
      "source": [
        "def setGraphByWH(w,h): # width height\n",
        "  n = w*h\n",
        "  G = [ [] for _ in range(n) ]\n",
        "  for i, u in enumerate(G):\n",
        "    if i - w >= 0 : u.append(i - w)\n",
        "    if i - 1 >= 0 : u.append(i - 1)\n",
        "    if i + 1  < n : u.append(i + 1)\n",
        "    if i + w  < n : u.append(i + w)\n",
        "  return G\n",
        "\n",
        "def setGraphByWH2(w,h): #v2 # width height\n",
        "  n = w*h\n",
        "  G = []\n",
        "  for i in range(n):\n",
        "    u = []\n",
        "    if i - w >= 0 : u.append(i - w)\n",
        "    if i - 1 >= 0 : u.append(i - 1)\n",
        "    if i + 1  < n : u.append(i + 1)\n",
        "    if i + w  < n : u.append(i + w)\n",
        "    G.append(u)\n",
        "  return G"
      ],
      "execution_count": 1,
      "outputs": []
    },
    {
      "cell_type": "code",
      "metadata": {
        "colab": {
          "base_uri": "https://localhost:8080/"
        },
        "id": "ES9D5shK5fT_",
        "outputId": "62ee162f-6075-48da-a107-fcd721d62b74"
      },
      "source": [
        "%timeit setGraphByWH(7000,7000)"
      ],
      "execution_count": 2,
      "outputs": [
        {
          "output_type": "stream",
          "name": "stdout",
          "text": [
            "1 loop, best of 5: 51 s per loop\n"
          ]
        }
      ]
    },
    {
      "cell_type": "code",
      "metadata": {
        "colab": {
          "base_uri": "https://localhost:8080/"
        },
        "id": "UEW5E_OS8ELB",
        "outputId": "2a164720-d529-46de-9253-91193fa84841"
      },
      "source": [
        "%timeit setGraphByWH2(7000,7000) #7000 x 7100 no"
      ],
      "execution_count": 2,
      "outputs": [
        {
          "output_type": "stream",
          "name": "stdout",
          "text": [
            "1 loop, best of 5: 51.5 s per loop\n"
          ]
        }
      ]
    },
    {
      "cell_type": "markdown",
      "metadata": {
        "id": "ZByaNwcnDdxM"
      },
      "source": [
        "## Funcion para diferenciar los nodos (v1)\n",
        "* Todos los nodos inician con x, y \n",
        "* Los nodos de distribución terminan en D\n",
        "* Los nodos de entrega terminan en E"
      ]
    },
    {
      "cell_type": "code",
      "metadata": {
        "id": "ymlBwsJVhjPn"
      },
      "source": [
        "# width height delivery_points[(x,y)], distribution_points[(x,y)] \n",
        "# Solo modificar los labels\n",
        "def setLabelsByPoints(G,deps,dips,w=None):\n",
        "  n = len(G)\n",
        "  if w == None: w = int(n**(1/2)) #10 | 2,1\n",
        "  labels = [f'{i%w},{i//w}' for i in range(n)] #x,y\n",
        "  for v in deps:\n",
        "    x, y = v[0], v[1]\n",
        "    pos = y*w + x\n",
        "    labels[pos] = f'{x},{y} E'\n",
        "  for v in dips:\n",
        "    x, y = v[0], v[1]\n",
        "    pos = y*w + x\n",
        "    labels[pos] = f'{x},{y} D'\n",
        "  return labels"
      ],
      "execution_count": null,
      "outputs": []
    },
    {
      "cell_type": "markdown",
      "metadata": {
        "id": "OeDhHDGxZqQM"
      },
      "source": [
        "## Funcion para diferenciar los nodos (v2)\n",
        "* **w** es el ancho de la ciudad.\n",
        "* La posición **i** del nodo en x,y es $i = y \\cdot w + x$ .\n",
        "* La posición **(x,y)** del nodo i se encuentra en $x = i\\%w $ y en $y = i//w$.\n",
        "* Solo se consideran los nodos de distribución y de entrega."
      ]
    },
    {
      "cell_type": "code",
      "metadata": {
        "id": "EoB97318ZjZV"
      },
      "source": [
        "def getNodesPosByXYs(xyl, w): #xylist [(x,y),(x,y),...]\n",
        "  return [ xy[1]*w + xy[0] for xy in xyl ]\n",
        "\n",
        "def getXYsByNodes(nl, w):\n",
        "  return [ (i%w , i//w) for i in nl ]"
      ],
      "execution_count": 4,
      "outputs": []
    },
    {
      "cell_type": "code",
      "metadata": {
        "id": "-lri_MrXTBGV"
      },
      "source": [
        ""
      ],
      "execution_count": null,
      "outputs": []
    },
    {
      "cell_type": "code",
      "metadata": {
        "id": "040fYYi-TAwx"
      },
      "source": [
        ""
      ],
      "execution_count": null,
      "outputs": []
    }
  ]
}