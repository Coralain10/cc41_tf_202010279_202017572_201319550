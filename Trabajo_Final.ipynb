{
  "nbformat": 4,
  "nbformat_minor": 0,
  "metadata": {
    "colab": {
      "name": "Trabajo_Final_algs.ipynb",
      "provenance": [],
      "collapsed_sections": [],
      "toc_visible": true,
      "include_colab_link": true
    },
    "kernelspec": {
      "display_name": "Python 3",
      "name": "python3"
    },
    "language_info": {
      "name": "python"
    }
  },
  "cells": [
    {
      "cell_type": "markdown",
      "metadata": {
        "id": "view-in-github",
        "colab_type": "text"
      },
      "source": [
        "<a href=\"https://colab.research.google.com/github/Coralain10/wv71_tf_202010279_202017572_201319550/blob/main/Trabajo_Final.ipynb\" target=\"_parent\"><img src=\"https://colab.research.google.com/assets/colab-badge.svg\" alt=\"Open In Colab\"/></a>"
      ]
    },
    {
      "cell_type": "markdown",
      "metadata": {
        "id": "BC0HhIWcZsCL"
      },
      "source": [
        "# Lista de adyacencia entre nodos vecinos"
      ]
    },
    {
      "cell_type": "code",
      "metadata": {
        "colab": {
          "base_uri": "https://localhost:8080/",
          "height": 35
        },
        "id": "ANE45SxvW3nJ",
        "outputId": "e9fea9c6-934f-40e2-be31-f8003a76cbc0"
      },
      "source": [
        "'''\n",
        "56 57 58 59 60 61 62 63\n",
        "48 49 50 51 52 53 54 55\n",
        "40 41 42 43 44 45 46 47\n",
        "32 33 34 35 36 37 38 39\n",
        "24 25 26 27 28 29 30 31\n",
        "16 17 18 19 20 21 22 23\n",
        " 8  9 10 11 12 13 14 15\n",
        " 0  1  2  3  4  5  6  7\n",
        "\n",
        "xy\n",
        "07 17 27 37 47 57 67 77\n",
        "06 16 26 36 46 56 66 76\n",
        "05 15 25 35 45 55 65 75\n",
        "04 14 24 34 44 54 64 74\n",
        "03 13 23 33 43 53 63 73\n",
        "02 12 22 32 42 52 62 72\n",
        "01 11 21 31 41 51 61 71\n",
        "00 10 20 30 40 50 60 70\n",
        "\n",
        "32 => 3+2*8\n",
        "ngrafo = y*ancho + x\n",
        "\n",
        "00 | 01 10 => 0 | 1 8\n",
        "0+1<n 0-1>0 0+ancho<n 0-ancho>0 \n",
        "\n",
        "32 | 33 31 22 42 => 19 | 27 11 18 20\n",
        "19+1<n 19-1>0 19+ancho<n 19-ancho>0 \n",
        "\n",
        "77 | 76 67 => 63 | 55 62\n",
        "63+1<n 63-1>0 63+ancho<n 63-ancho>0 \n",
        "'''\n",
        "''"
      ],
      "execution_count": null,
      "outputs": [
        {
          "output_type": "execute_result",
          "data": {
            "application/vnd.google.colaboratory.intrinsic+json": {
              "type": "string"
            },
            "text/plain": [
              "''"
            ]
          },
          "metadata": {},
          "execution_count": 3
        }
      ]
    },
    {
      "cell_type": "markdown",
      "metadata": {
        "id": "MZle-dTkDgxz"
      },
      "source": [
        "## Función para unir nodos vecinos\n",
        "* Une los vecinos de abajo, izquierda, derecha y arriba\n",
        "* Los nodos se cuentan desde la esquina inferior izquierda hacia la esquina superior derecha.\n",
        "* Se leen de izquierda a derecha y de abajo a arriba."
      ]
    },
    {
      "cell_type": "code",
      "metadata": {
        "id": "V4F3RLV_Zo1C"
      },
      "source": [
        "def setGraphByWH(w,h): # width height\n",
        "  n = w*h\n",
        "  G = [ [] for _ in range(n) ]\n",
        "  for i, u in enumerate(G):\n",
        "    if i - w >= 0 : u.append(i - w)\n",
        "    if i - 1 >= 0 : u.append(i - 1)\n",
        "    if i + 1  < n : u.append(i + 1)\n",
        "    if i + w  < n : u.append(i + w)\n",
        "  return G\n",
        "\n",
        "def setGraphByWH2(w,h): #v2 # width height\n",
        "  n = w*h\n",
        "  G = []\n",
        "  for i in range(n):\n",
        "    u = []\n",
        "    if i - w >= 0 : u.append(i - w)\n",
        "    if i - 1 >= 0 : u.append(i - 1)\n",
        "    if i + 1  < n : u.append(i + 1)\n",
        "    if i + w  < n : u.append(i + w)\n",
        "    G.append(u)\n",
        "  return G"
      ],
      "execution_count": 9,
      "outputs": []
    },
    {
      "cell_type": "code",
      "metadata": {
        "id": "ES9D5shK5fT_"
      },
      "source": [
        "#%timeit setGraphByWH(7000,7000)\n",
        "#%timeit setGraphByWH2(7000,7000) #7000 x 7100 no\n",
        "\n",
        "side = 1000 #ancho y alto de la ciudad\n",
        "G = setGraphByWH(side,side)"
      ],
      "execution_count": 10,
      "outputs": []
    },
    {
      "cell_type": "code",
      "metadata": {
        "id": "MgB55EbVtsEr"
      },
      "source": [
        "fileG = open(\"lista_adyacencia.csv\",\"w\")\n",
        "for u in G:\n",
        "  fileG.write(str(u)[1:-1] + '\\n')\n",
        "fileG.close() #to change file access modes"
      ],
      "execution_count": 11,
      "outputs": []
    },
    {
      "cell_type": "markdown",
      "metadata": {
        "id": "ZByaNwcnDdxM"
      },
      "source": [
        "## Funcion para diferenciar los nodos (v1)\n",
        "* Todos los nodos inician con x, y \n",
        "* Los nodos de distribución terminan en D\n",
        "* Los nodos de entrega terminan en E"
      ]
    },
    {
      "cell_type": "code",
      "metadata": {
        "id": "ymlBwsJVhjPn"
      },
      "source": [
        "# width height delivery_points[(x,y)], distribution_points[(x,y)] \n",
        "# Solo modificar los labels\n",
        "def setLabelsByPoints(G,deps,dips,w=None):\n",
        "  n = len(G)\n",
        "  if w == None: w = int(n**(1/2)) #10 | 2,1\n",
        "  labels = [f'{i%w},{i//w}' for i in range(n)] #x,y\n",
        "  for v in deps:\n",
        "    x, y = v[0], v[1]\n",
        "    pos = y*w + x\n",
        "    labels[pos] = f'{x},{y} E'\n",
        "  for v in dips:\n",
        "    x, y = v[0], v[1]\n",
        "    pos = y*w + x\n",
        "    labels[pos] = f'{x},{y} D'\n",
        "  return labels"
      ],
      "execution_count": null,
      "outputs": []
    },
    {
      "cell_type": "markdown",
      "metadata": {
        "id": "OeDhHDGxZqQM"
      },
      "source": [
        "## Funcion para diferenciar los nodos (v2)\n",
        "* **w** es el ancho de la ciudad.\n",
        "* La posición **i** del nodo en x,y es $i = y \\cdot w + x$ .\n",
        "* La posición **(x,y)** del nodo i se encuentra en $x = i\\%w $ y en $y = i//w$.\n",
        "* Solo se consideran los nodos de distribución y de entrega."
      ]
    },
    {
      "cell_type": "code",
      "metadata": {
        "id": "EoB97318ZjZV"
      },
      "source": [
        "def getNodesByXYs(xyl, w): #xylist [(x,y),(x,y),...]\n",
        "  return [xy[1]*w + xy[0] for xy in xyl]\n",
        "\n",
        "def getXYsByNodes(nl, w):\n",
        "  return [ (i%w , i//w) for i in nl ]"
      ],
      "execution_count": 19,
      "outputs": []
    },
    {
      "cell_type": "markdown",
      "metadata": {
        "id": "BlCSzs1mYqZ6"
      },
      "source": [
        "# Agregar la información de los datasets\n",
        "* [x] Agregar la información de dataset de almacenes.csv.\n",
        "* [x] Agregar la información de dataset de puntos_entrega.csv."
      ]
    },
    {
      "cell_type": "code",
      "metadata": {
        "colab": {
          "base_uri": "https://localhost:8080/"
        },
        "id": "EjT9hnVigtjw",
        "outputId": "9608fe81-71f6-4187-9b28-06c79c34ad12"
      },
      "source": [
        "!wget https://raw.githubusercontent.com/Coralain10/wv71_tf_202010279_202017572_201319550/main/dataset/almacenes.csv -P dataset/\n",
        "!wget https://raw.githubusercontent.com/Coralain10/wv71_tf_202010279_202017572_201319550/main/dataset/puntos_entrega.csv -P dataset/"
      ],
      "execution_count": 3,
      "outputs": [
        {
          "output_type": "stream",
          "name": "stdout",
          "text": [
            "--2021-11-26 11:49:01--  https://raw.githubusercontent.com/Coralain10/wv71_tf_202010279_202017572_201319550/main/dataset/almacenes.csv\n",
            "Resolving raw.githubusercontent.com (raw.githubusercontent.com)... 185.199.108.133, 185.199.109.133, 185.199.110.133, ...\n",
            "Connecting to raw.githubusercontent.com (raw.githubusercontent.com)|185.199.108.133|:443... connected.\n",
            "HTTP request sent, awaiting response... 200 OK\n",
            "Length: 695 [text/plain]\n",
            "Saving to: ‘dataset/almacenes.csv’\n",
            "\n",
            "\ralmacenes.csv         0%[                    ]       0  --.-KB/s               \ralmacenes.csv       100%[===================>]     695  --.-KB/s    in 0s      \n",
            "\n",
            "2021-11-26 11:49:01 (24.9 MB/s) - ‘dataset/almacenes.csv’ saved [695/695]\n",
            "\n",
            "--2021-11-26 11:49:02--  https://raw.githubusercontent.com/Coralain10/wv71_tf_202010279_202017572_201319550/main/dataset/puntos_entrega.csv\n",
            "Resolving raw.githubusercontent.com (raw.githubusercontent.com)... 185.199.111.133, 185.199.108.133, 185.199.110.133, ...\n",
            "Connecting to raw.githubusercontent.com (raw.githubusercontent.com)|185.199.111.133|:443... connected.\n",
            "HTTP request sent, awaiting response... 200 OK\n",
            "Length: 25529 (25K) [text/plain]\n",
            "Saving to: ‘dataset/puntos_entrega.csv’\n",
            "\n",
            "puntos_entrega.csv  100%[===================>]  24.93K  --.-KB/s    in 0s      \n",
            "\n",
            "2021-11-26 11:49:02 (95.6 MB/s) - ‘dataset/puntos_entrega.csv’ saved [25529/25529]\n",
            "\n"
          ]
        }
      ]
    },
    {
      "cell_type": "code",
      "metadata": {
        "id": "-lri_MrXTBGV"
      },
      "source": [
        "def fileXYtoLst(fname):\n",
        "  xys = []\n",
        "  with open(fname) as f:\n",
        "    for line in f:\n",
        "      xys.append( tuple( map(int,line.strip().split(','))) )\n",
        "  return xys\n",
        "\n",
        "almacenes_xys = fileXYtoLst(\"dataset/almacenes.csv\")\n",
        "entrega_xys = fileXYtoLst(\"dataset/puntos_entrega.csv\")"
      ],
      "execution_count": 5,
      "outputs": []
    },
    {
      "cell_type": "code",
      "metadata": {
        "id": "BqR-uUhhcFZB"
      },
      "source": [
        "almacenes_nodes = getNodesByXYs(almacenes_xys, side)\n",
        "entrega_nodes = getNodesByXYs(entrega_xys, side)"
      ],
      "execution_count": null,
      "outputs": []
    },
    {
      "cell_type": "code",
      "metadata": {
        "colab": {
          "base_uri": "https://localhost:8080/",
          "height": 70
        },
        "id": "7qYkdHKDbZlp",
        "outputId": "213867e8-6b27-4d9b-e553-02ddabdf5127"
      },
      "source": [
        "'''import matplotlib.pyplot as plt\n",
        "plt.figure(figsize=(50,50))\n",
        "plt.grid(color='#AAAAAA', linestyle='-', linewidth=1)\n",
        "plt.scatter( *zip(*almacenes_xys), s=100, color=\"#ff9654\", label=\"Puntos de distibucion\")\n",
        "plt.scatter( *zip(*entrega_xys), s=100, color=\"#34c0eb\", label=\"Puntos de Entrega\")\n",
        "plt.xlabel(\"X\")\n",
        "plt.ylabel(\"Y\")\n",
        "for xy in almacenes_xys:\n",
        "  plt.annotate(None,(xy[0], xy[1]))\n",
        "for xy in entrega_xys:\n",
        "  plt.annotate(None,(xy[0], xy[1]))\n",
        "plt.legend()\n",
        "plt.xlim([0, side])\n",
        "plt.ylim([0, side])\n",
        "plt.show()'''"
      ],
      "execution_count": null,
      "outputs": [
        {
          "output_type": "execute_result",
          "data": {
            "application/vnd.google.colaboratory.intrinsic+json": {
              "type": "string"
            },
            "text/plain": [
              "'import matplotlib.pyplot as plt\\nplt.figure(figsize=(50,50))\\nplt.grid(color=\\'#AAAAAA\\', linestyle=\\'-\\', linewidth=1)\\nplt.scatter( *zip(*almacenes_xys), s=100, color=\"#ff9654\", label=\"Puntos de distibucion\")\\nplt.scatter( *zip(*entrega_xys), s=100, color=\"#34c0eb\", label=\"Puntos de Entrega\")\\nplt.xlabel(\"X\")\\nplt.ylabel(\"Y\")\\nfor xy in almacenes_xys:\\n  plt.annotate(None,(xy[0], xy[1]))\\nfor xy in entrega_xys:\\n  plt.annotate(None,(xy[0], xy[1]))\\nplt.legend()\\nplt.xlim([0, side])\\nplt.ylim([0, side])\\nplt.show()'"
            ]
          },
          "metadata": {},
          "execution_count": 12
        }
      ]
    },
    {
      "cell_type": "markdown",
      "metadata": {
        "id": "76AFrquapJ85"
      },
      "source": [
        "# Algoritmo de Dijkstra"
      ]
    },
    {
      "cell_type": "code",
      "metadata": {
        "id": "QkakSOcFpJ86"
      },
      "source": [
        "import math\n",
        "import heapq as hq\n",
        "import numpy as np"
      ],
      "execution_count": null,
      "outputs": []
    },
    {
      "cell_type": "code",
      "metadata": {
        "id": "WSkIYogmpJ88"
      },
      "source": [
        "def dijkstra(G, s):\n",
        "  n = len(G)\n",
        "  visited = [False]*n\n",
        "  path = [None]*n\n",
        "  cost = [math.inf]*n\n",
        "  cost[s] = 0\n",
        "  queue = [(0, s)]\n",
        "  while queue:\n",
        "    g_u, u = hq.heappop(queue)\n",
        "    if not visited[u]:\n",
        "      visited[u] = True\n",
        "      for v in G[u]:\n",
        "        f = g_u + 1\n",
        "        if f < cost[v]:\n",
        "          cost[v] = f\n",
        "          path[v] = u\n",
        "          hq.heappush(queue, (f, v))\n",
        "\n",
        "  return path, cost"
      ],
      "execution_count": null,
      "outputs": []
    },
    {
      "cell_type": "code",
      "metadata": {
        "id": "1Mlutxu2pJ8-"
      },
      "source": [
        "path, cost = dijkstra(G, 0)"
      ],
      "execution_count": null,
      "outputs": []
    },
    {
      "cell_type": "markdown",
      "metadata": {
        "id": "Af0kGToArr-a"
      },
      "source": [
        "## Dijkstra para cada punto de distribucion (v1)"
      ]
    },
    {
      "cell_type": "code",
      "metadata": {
        "id": "dm_fPu4qlDs7"
      },
      "source": [
        "def dijkstrapd(dis, entrega, G):\n",
        "  res=[] \n",
        "  def dijkstrav2(G, s):\n",
        "    n = len(G)\n",
        "    visited = [False]*n\n",
        "    path = [None]*n\n",
        "    cost = [math.inf]*n\n",
        "    cost[s] = 0\n",
        "    queue = [(0, s)]\n",
        "    while queue:\n",
        "      g_u, u = hq.heappop(queue)\n",
        "      if  not visited[u]: #\n",
        "        visited[u] = True\n",
        "        for v in G[u]:\n",
        "          f = g_u + 1\n",
        "          if f < cost[v]:\n",
        "            cost[v] = f\n",
        "            path[v] = u\n",
        "            hq.heappush(queue, (f, v))\n",
        "    return path, cost\n",
        "\n",
        "  for i in dis:\n",
        "    l1, l2 = dijkstrav2(G,i)\n",
        "    for j in entrega:\n",
        "      k = j\n",
        "      p = [j]\n",
        "      c = l2[j]\n",
        "      while k!=i:\n",
        "        k=l1[k]\n",
        "        p.append(k)\n",
        "      p.reverse()\n",
        "      res.append((i,j,c,p)) #formato de la lista resultante: (nodo de distribucion i, nodo de entrega j, cost, path)\n",
        "  return res"
      ],
      "execution_count": null,
      "outputs": []
    },
    {
      "cell_type": "code",
      "metadata": {
        "id": "epNwi0QktW39",
        "colab": {
          "base_uri": "https://localhost:8080/",
          "height": 310
        },
        "outputId": "ae9433d6-5a0e-455e-84c2-b6ca0ac46fb3"
      },
      "source": [
        "djpd = dijkstrapd(almacenes_nodes, entrega_nodes,G)"
      ],
      "execution_count": null,
      "outputs": [
        {
          "output_type": "error",
          "ename": "KeyboardInterrupt",
          "evalue": "ignored",
          "traceback": [
            "\u001b[0;31m---------------------------------------------------------------------------\u001b[0m",
            "\u001b[0;31mKeyboardInterrupt\u001b[0m                         Traceback (most recent call last)",
            "\u001b[0;32m<ipython-input-17-6e5d356bf984>\u001b[0m in \u001b[0;36m<module>\u001b[0;34m()\u001b[0m\n\u001b[0;32m----> 1\u001b[0;31m \u001b[0mdjpd\u001b[0m \u001b[0;34m=\u001b[0m \u001b[0mdijkstrapd\u001b[0m\u001b[0;34m(\u001b[0m\u001b[0malmacenes_nodes\u001b[0m\u001b[0;34m,\u001b[0m \u001b[0mentrega_nodes\u001b[0m\u001b[0;34m,\u001b[0m\u001b[0mG\u001b[0m\u001b[0;34m)\u001b[0m\u001b[0;34m\u001b[0m\u001b[0;34m\u001b[0m\u001b[0m\n\u001b[0m",
            "\u001b[0;32m<ipython-input-16-3272f3e92e89>\u001b[0m in \u001b[0;36mdijkstrapd\u001b[0;34m(dis, entrega, G)\u001b[0m\n\u001b[1;32m     21\u001b[0m \u001b[0;34m\u001b[0m\u001b[0m\n\u001b[1;32m     22\u001b[0m   \u001b[0;32mfor\u001b[0m \u001b[0mi\u001b[0m \u001b[0;32min\u001b[0m \u001b[0mdis\u001b[0m\u001b[0;34m:\u001b[0m\u001b[0;34m\u001b[0m\u001b[0;34m\u001b[0m\u001b[0m\n\u001b[0;32m---> 23\u001b[0;31m     \u001b[0ml1\u001b[0m\u001b[0;34m,\u001b[0m \u001b[0ml2\u001b[0m \u001b[0;34m=\u001b[0m \u001b[0mdijkstrav2\u001b[0m\u001b[0;34m(\u001b[0m\u001b[0mG\u001b[0m\u001b[0;34m,\u001b[0m\u001b[0mi\u001b[0m\u001b[0;34m)\u001b[0m\u001b[0;34m\u001b[0m\u001b[0;34m\u001b[0m\u001b[0m\n\u001b[0m\u001b[1;32m     24\u001b[0m     \u001b[0;32mfor\u001b[0m \u001b[0mj\u001b[0m \u001b[0;32min\u001b[0m \u001b[0mentrega\u001b[0m\u001b[0;34m:\u001b[0m\u001b[0;34m\u001b[0m\u001b[0;34m\u001b[0m\u001b[0m\n\u001b[1;32m     25\u001b[0m       \u001b[0mk\u001b[0m \u001b[0;34m=\u001b[0m \u001b[0mj\u001b[0m\u001b[0;34m\u001b[0m\u001b[0;34m\u001b[0m\u001b[0m\n",
            "\u001b[0;32m<ipython-input-16-3272f3e92e89>\u001b[0m in \u001b[0;36mdijkstrav2\u001b[0;34m(G, s)\u001b[0m\n\u001b[1;32m      9\u001b[0m     \u001b[0mqueue\u001b[0m \u001b[0;34m=\u001b[0m \u001b[0;34m[\u001b[0m\u001b[0;34m(\u001b[0m\u001b[0;36m0\u001b[0m\u001b[0;34m,\u001b[0m \u001b[0ms\u001b[0m\u001b[0;34m)\u001b[0m\u001b[0;34m]\u001b[0m\u001b[0;34m\u001b[0m\u001b[0;34m\u001b[0m\u001b[0m\n\u001b[1;32m     10\u001b[0m     \u001b[0;32mwhile\u001b[0m \u001b[0mqueue\u001b[0m\u001b[0;34m:\u001b[0m\u001b[0;34m\u001b[0m\u001b[0;34m\u001b[0m\u001b[0m\n\u001b[0;32m---> 11\u001b[0;31m       \u001b[0mg_u\u001b[0m\u001b[0;34m,\u001b[0m \u001b[0mu\u001b[0m \u001b[0;34m=\u001b[0m \u001b[0mhq\u001b[0m\u001b[0;34m.\u001b[0m\u001b[0mheappop\u001b[0m\u001b[0;34m(\u001b[0m\u001b[0mqueue\u001b[0m\u001b[0;34m)\u001b[0m\u001b[0;34m\u001b[0m\u001b[0;34m\u001b[0m\u001b[0m\n\u001b[0m\u001b[1;32m     12\u001b[0m       \u001b[0;32mif\u001b[0m  \u001b[0;32mnot\u001b[0m \u001b[0mvisited\u001b[0m\u001b[0;34m[\u001b[0m\u001b[0mu\u001b[0m\u001b[0;34m]\u001b[0m\u001b[0;34m:\u001b[0m \u001b[0;31m#\u001b[0m\u001b[0;34m\u001b[0m\u001b[0;34m\u001b[0m\u001b[0m\n\u001b[1;32m     13\u001b[0m         \u001b[0mvisited\u001b[0m\u001b[0;34m[\u001b[0m\u001b[0mu\u001b[0m\u001b[0;34m]\u001b[0m \u001b[0;34m=\u001b[0m \u001b[0;32mTrue\u001b[0m\u001b[0;34m\u001b[0m\u001b[0;34m\u001b[0m\u001b[0m\n",
            "\u001b[0;31mKeyboardInterrupt\u001b[0m: "
          ]
        }
      ]
    },
    {
      "cell_type": "code",
      "metadata": {
        "id": "hdbO_eSMsno4"
      },
      "source": [
        "def showDj1(l:list, qv=10, qh=10):\n",
        "  qv = min( len(l), qv )\n",
        "  qh = min( len(l[0][-1]), qh )\n",
        "  for i in range(qv):\n",
        "    print( l[i][0], l[i][1], l[i][2], \n",
        "          str(l[i][3][:qh])[:-1], '...]', sep = ',' )\n",
        "  print('...')\n",
        "showDj1(djpd)"
      ],
      "execution_count": null,
      "outputs": []
    },
    {
      "cell_type": "markdown",
      "metadata": {
        "id": "wuGK0cF0fV23"
      },
      "source": [
        "#Algoritmos"
      ]
    },
    {
      "cell_type": "code",
      "metadata": {
        "id": "t4KQfeZ3DmNM"
      },
      "source": [
        "def distancia(p1, p2):\n",
        "  x1, y1 = p1\n",
        "  x2, y2 = p2\n",
        "  # return math.sqrt((x2-x1)**2+(y2-y1)**2)\n",
        "  return abs(x2-x1)+abs(y2-y1)\n",
        "\n",
        "def getnodo(p, side):\n",
        "  x, y = p\n",
        "  return y*side + x"
      ],
      "execution_count": 1,
      "outputs": []
    },
    {
      "cell_type": "code",
      "metadata": {
        "id": "DvxwIjjl-mSn"
      },
      "source": [
        "def asignacion(dist, ent):\n",
        "  res = [] # [[dist1, emt1, ent2, entn],[dist2, ent1, ent2, entn],...]\n",
        "  for i in dist:\n",
        "    l = [getnodo(i,side)]\n",
        "    for j in ent:\n",
        "      if distancia(i,j)<=50:\n",
        "        l.append(getnodo(j,side))\n",
        "    res.append(l)\n",
        "  return res"
      ],
      "execution_count": 2,
      "outputs": []
    },
    {
      "cell_type": "code",
      "metadata": {
        "id": "z0G7vYjB_VNm"
      },
      "source": [
        "dist = fileXYtoLst(\"dataset/almacenes.csv\")\n",
        "ent = fileXYtoLst(\"dataset/puntos_entrega.csv\")"
      ],
      "execution_count": 6,
      "outputs": []
    },
    {
      "cell_type": "code",
      "metadata": {
        "id": "imbG7aLh_q2Q"
      },
      "source": [
        "l = asignacion(dist,ent)"
      ],
      "execution_count": 12,
      "outputs": []
    },
    {
      "cell_type": "code",
      "metadata": {
        "id": "cZ0R0aq7_rmu"
      },
      "source": [
        "def separacion(l):\n",
        "  l1 = []\n",
        "  l2 = []\n",
        "  l3 = []\n",
        "  for i in l:\n",
        "    if len(i)<11:\n",
        "      l1.append(i)\n",
        "    elif len(i)>=11 and len(i)<25:\n",
        "      l2.append(i)\n",
        "    else:\n",
        "      l3.append(i)\n",
        "  return l1,l2,l3"
      ],
      "execution_count": 13,
      "outputs": []
    },
    {
      "cell_type": "code",
      "metadata": {
        "id": "_1EVsEP1Ca5G"
      },
      "source": [
        "d, c, j = separacion(l)"
      ],
      "execution_count": 14,
      "outputs": []
    },
    {
      "cell_type": "markdown",
      "metadata": {
        "id": "r3goRz76E-lj"
      },
      "source": [
        "##Algoritmo Diego (Fuerza bruta)"
      ]
    },
    {
      "cell_type": "code",
      "metadata": {
        "id": "mkYxrG-TSa5Q"
      },
      "source": [
        "from itertools import permutations"
      ],
      "execution_count": null,
      "outputs": []
    },
    {
      "cell_type": "code",
      "metadata": {
        "id": "moR41ajeE-IT"
      },
      "source": [
        "def distanciacuadras(n1, n2):\n",
        "  m1 = n1//1000\n",
        "  m2 = n2//1000\n",
        "  dist = 0\n",
        "  while n1!=n2:\n",
        "    if m1>m2:\n",
        "      n1-=1000\n",
        "      m1-=1\n",
        "    elif m2>m1:\n",
        "      n1+=1000\n",
        "      m1+=1\n",
        "    else:\n",
        "      if n1>n2:\n",
        "        n1-=1\n",
        "      if n2>n1:\n",
        "        n1+=1\n",
        "    dist+=1\n",
        "  return dist\n",
        "\n",
        "def tsp(l):\n",
        "  l2 = l.copy()\n",
        "  inicio = l2.pop(0)\n",
        "  permutaciones = list(permutations(l2))\n",
        "  res = []\n",
        "  dist = float('inf')\n",
        "  for i in permutaciones:\n",
        "    d = distanciacuadras(inicio, i[0])\n",
        "    for j in range(1, len(i)):\n",
        "      d += distanciacuadras(i[j],i[j-1])\n",
        "    d += distanciacuadras(inicio,i[len(i)-1])\n",
        "    if d<dist:\n",
        "      res=list(i)\n",
        "      dist=d\n",
        "  res.insert(0,inicio)\n",
        "  res.append(inicio)\n",
        "  return res, dist"
      ],
      "execution_count": null,
      "outputs": []
    },
    {
      "cell_type": "code",
      "metadata": {
        "id": "tFS_tshtHuF1"
      },
      "source": [
        "def algoritmoD(d):\n",
        "  for i in d:\n",
        "    l, dist = tsp(i)\n",
        "    print(f'Desde el punto de distribución {i.pop(0)} un carro entrego pedidos a los puntos de entrega: {i}, recorriendo {dist} cuadras, por la ruta: {l}')"
      ],
      "execution_count": null,
      "outputs": []
    },
    {
      "cell_type": "code",
      "metadata": {
        "id": "xWetY5WTa2fm",
        "colab": {
          "base_uri": "https://localhost:8080/"
        },
        "outputId": "eba3723b-abc9-4456-cdf7-2d4f08575346"
      },
      "source": [
        "algoritmoD(d)"
      ],
      "execution_count": null,
      "outputs": [
        {
          "output_type": "stream",
          "name": "stdout",
          "text": [
            "Desde el punto de distribución 997921 un carro entrego pedidos a los puntos de entrega: [994917, 994935, 991955, 972903, 994898], recorriendo 164 cuadras, por la ruta: [997921, 994917, 994898, 972903, 991955, 994935, 997921]\n",
            "Desde el punto de distribución 930702 un carro entrego pedidos a los puntos de entrega: [912723, 934724, 954726, 933683, 936663, 958687, 909729, 946727, 918693], recorriendo 254 cuadras, por la ruta: [930702, 933683, 936663, 958687, 954726, 946727, 934724, 909729, 912723, 918693, 930702]\n",
            "Desde el punto de distribución 891023 un carro entrego pedidos a los puntos de entrega: [929020, 907011, 939024, 860017, 908019, 929011], recorriendo 190 cuadras, por la ruta: [891023, 939024, 929020, 929011, 907011, 908019, 860017, 891023]\n",
            "Desde el punto de distribución 915866 un carro entrego pedidos a los puntos de entrega: [916823, 943847, 903898, 952870, 939872, 948856, 938892, 909853, 928844], recorriendo 260 cuadras, por la ruta: [915866, 903898, 938892, 939872, 952870, 948856, 943847, 928844, 916823, 909853, 915866]\n",
            "Desde el punto de distribución 683358 un carro entrego pedidos a los puntos de entrega: [693360, 678397, 711358, 688402, 679317, 661365, 677318, 679367, 724366], recorriendo 302 cuadras, por la ruta: [683358, 693360, 711358, 724366, 688402, 678397, 679367, 661365, 677318, 679317, 683358]\n",
            "Desde el punto de distribución 317646 un carro entrego pedidos a los puntos de entrega: [318602, 290667, 321628, 318641, 354655, 298648, 320658, 300671, 338632], recorriendo 266 cuadras, por la ruta: [317646, 318641, 318602, 321628, 338632, 354655, 320658, 300671, 290667, 298648, 317646]\n"
          ]
        }
      ]
    },
    {
      "cell_type": "markdown",
      "metadata": {
        "id": "XtvfBP7hFCkm"
      },
      "source": [
        "##Algoritmo Carolain"
      ]
    },
    {
      "cell_type": "code",
      "metadata": {
        "id": "sPxHeaNvAkv0",
        "cellView": "form"
      },
      "source": [
        "#@title\n",
        "def groups():\n",
        "  na = len(almacenes_xys)\n",
        "  ne = len(entrega_xys)\n",
        "  group = [-1]*(na+ne)\n",
        "  for i in range(ne):\n",
        "    m = 0\n",
        "    d = distancia(entrega_xys[i],almacenes_xys[0])\n",
        "    for j in range(1,na):\n",
        "      d2 = dist(entrega_xys[i],almacenes_xys[j])\n",
        "      if d2 < d1:\n",
        "        d = d2\n",
        "        m = j\n",
        "      group[i] = m\n",
        "  \n",
        "  groupsNs = {}\n",
        "  for i, gr in enumerate(group):\n",
        "    #del numero de grupo recogemos las posiciones\n",
        "    groupsNs[gr] = groupsNs.get(gr,[]) + [i]\n",
        "  \n",
        "  ngroups = len(groupsNs.keys())\n",
        "  qCU = ngroups//3\n",
        "  S = ngroups[:qCU]\n",
        "  C = ngroups[qCU:qCU*2]\n",
        "  L = ngroups[qCU*2:]\n",
        "  return S, C, L"
      ],
      "execution_count": 17,
      "outputs": []
    },
    {
      "cell_type": "markdown",
      "metadata": {
        "id": "RfsQFjD_YF5V"
      },
      "source": [
        "## Algoritmo Greedy del Vecino más cercano (Nearest neighbour)"
      ]
    },
    {
      "cell_type": "code",
      "metadata": {
        "id": "C8YUeE1WnVGW",
        "colab": {
          "base_uri": "https://localhost:8080/"
        },
        "outputId": "cf57ba9c-1a18-45ea-e44f-ff7a967e867d"
      },
      "source": [
        "pointsC = [[] for _ in c]\n",
        "for i, group in enumerate(c):\n",
        "  pointsC[i] = getXYsByNodes(group,side)    \n",
        "print(pointsC)\n",
        "\n",
        "def nearest_neighbour(group:list):\n",
        "  n = len(group)\n",
        "  path = [None]*n\n",
        "  visited = [False]*n\n",
        "  #el punto de almacén se encuentra en el nodo 0\n",
        "  visited[0] = True #el visitado es 1ero\n",
        "  lastV = 0 #último nodo visitado\n",
        "  nV = 0 #número de nodos ya visitados\n",
        "  cost = 0\n",
        "  \n",
        "  while nV < n-1:\n",
        "    neighbours = []\n",
        "    for i, v in enumerate(visited): #solo de aquellos aun no visitados\n",
        "      if not v: neighbours.append( (i, group[i]) ) #tambien guardamos su índice\n",
        "    #print(neighbours)\n",
        "\n",
        "    #asumimos que el primero es el mínimo\n",
        "    #(índice en el grupo, distancia al ultimo visitado)\n",
        "    nearest = (neighbours[0][0], distancia(group[lastV],neighbours[0][1]) )\n",
        "    #calculamos la distancia mínima\n",
        "    for ig, posN in neighbours:\n",
        "      if (nearest[1] < distancia(group[lastV], posN) ):\n",
        "        nearest = (ig, distancia(group[lastV], posN) )\n",
        "    \n",
        "    #llenamos los datos del más cercano\n",
        "    #podemos guardar el indice lastV o la posición xy\n",
        "    #para mejor representación, será en xy\n",
        "    path[nearest[0]] = group[lastV] #nodo anterior \n",
        "    visited[ nearest[0] ] = True\n",
        "    lastV = nearest[0]\n",
        "    nV += 1\n",
        "    cost += nearest[1]\n",
        "  \n",
        "  #Agregamos el costo del último nodo visitado al primero\n",
        "  cost += distancia(group[lastV], group[0])\n",
        "\n",
        "  return path, cost"
      ],
      "execution_count": 51,
      "outputs": [
        {
          "output_type": "stream",
          "name": "stdout",
          "text": [
            "[[(193, 891), (157, 877), (216, 872), (190, 899), (211, 866), (197, 904), (224, 881), (193, 871), (190, 906), (212, 882), (206, 894)], [(779, 548), (753, 566), (811, 545), (820, 541), (791, 575), (746, 532), (818, 551), (793, 532), (775, 561), (772, 556), (796, 567), (805, 572), (815, 558), (775, 539), (777, 518), (782, 501), (776, 538)], [(341, 738), (335, 715), (309, 750), (358, 711), (335, 777), (327, 746), (340, 751), (346, 750), (356, 760), (311, 721), (311, 722), (331, 773), (356, 768), (364, 763), (328, 759), (347, 753), (330, 714), (352, 738), (381, 748), (366, 724), (309, 737)], [(479, 404), (496, 391), (467, 391), (457, 393), (477, 422), (464, 386), (518, 398), (507, 396), (448, 412), (482, 428), (516, 410), (455, 428), (463, 421), (490, 405), (460, 422), (505, 419), (479, 437)], [(352, 891), (370, 901), (371, 879), (344, 864), (366, 858), (345, 900), (350, 898), (368, 867), (392, 893), (357, 890), (333, 915), (338, 923), (342, 856), (333, 903), (326, 910), (356, 934)], [(116, 753), (104, 746), (110, 717), (143, 767), (89, 738), (111, 766), (151, 740), (138, 728), (82, 764), (89, 757), (122, 727), (126, 779), (103, 764), (111, 765), (109, 733), (120, 741), (164, 755), (112, 718), (115, 711), (137, 742), (104, 765)], [(924, 468), (961, 474), (963, 460), (955, 469), (955, 463), (933, 461), (896, 476), (918, 509), (939, 433), (946, 456), (908, 471), (942, 451), (922, 436), (950, 455), (917, 508), (919, 439), (908, 489), (938, 441), (925, 488), (899, 483), (930, 488), (923, 489)], [(24, 215), (36, 177), (61, 210), (3, 190), (5, 193), (31, 208), (12, 241), (61, 216), (42, 201), (30, 174), (35, 194), (56, 220), (15, 206), (24, 246)], [(306, 48), (318, 26), (329, 35), (305, 70), (271, 61), (303, 57), (276, 60), (304, 51), (331, 44), (274, 52), (306, 70)], [(37, 511), (1, 519), (12, 498), (61, 530), (55, 498), (49, 486), (69, 504), (40, 517), (68, 496), (81, 510), (41, 525), (37, 539), (36, 515), (49, 542)], [(991, 562), (992, 529), (976, 562), (963, 545), (998, 562), (978, 575), (943, 561), (986, 563), (978, 577), (993, 595), (979, 548), (989, 515), (988, 516), (955, 573), (989, 608), (981, 548), (997, 605)], [(200, 720), (188, 726), (209, 733), (188, 696), (221, 712), (202, 700), (186, 728), (198, 688), (212, 728), (210, 700), (186, 722), (186, 698), (216, 707), (189, 756)], [(694, 106), (718, 123), (672, 110), (685, 97), (694, 61), (706, 96), (715, 108), (737, 112), (653, 99), (685, 128), (693, 85), (719, 113), (727, 94), (729, 103), (668, 118), (724, 113), (704, 130), (698, 70), (677, 130), (681, 140)], [(785, 539), (811, 545), (820, 541), (791, 575), (805, 522), (746, 532), (818, 551), (793, 532), (775, 561), (772, 556), (796, 567), (821, 536), (815, 558), (775, 539), (796, 501), (777, 518), (782, 501), (776, 538)], [(956, 274), (976, 245), (938, 295), (945, 289), (950, 292), (976, 270), (928, 284), (949, 260), (962, 264), (951, 257), (956, 298), (954, 238), (970, 271), (975, 249), (959, 241), (960, 281), (989, 260), (960, 302)], [(121, 546), (168, 548), (120, 565), (88, 550), (81, 540), (79, 547), (110, 541), (110, 544), (146, 555), (112, 565), (144, 540), (121, 540), (103, 514), (82, 542), (103, 567), (144, 544), (123, 534), (146, 562), (149, 551), (102, 554), (83, 550)], [(666, 588), (659, 611), (668, 570), (685, 572), (670, 602), (624, 593), (665, 581), (646, 616), (666, 599), (690, 578), (667, 568), (642, 565), (671, 611), (678, 625), (688, 567), (674, 595), (633, 598), (650, 611), (663, 635)], [(890, 162), (865, 157), (917, 140), (856, 149), (890, 202), (924, 156), (887, 163), (886, 153), (863, 167), (924, 166), (870, 192), (907, 140), (915, 140), (846, 156), (930, 157), (876, 167)], [(771, 65), (810, 56), (774, 50), (794, 59), (765, 64), (775, 35), (773, 71), (811, 69), (773, 34), (781, 48), (745, 66), (780, 101), (768, 107), (773, 73), (775, 77), (791, 65)], [(957, 166), (954, 193), (970, 186), (924, 156), (936, 143), (974, 149), (924, 166), (951, 144), (944, 188), (933, 188), (955, 187), (989, 179), (930, 157), (966, 186), (957, 161)], [(539, 763), (524, 728), (535, 755), (563, 738), (514, 777), (535, 763), (537, 786), (553, 734), (552, 760), (568, 784), (523, 769), (533, 766), (532, 795), (546, 785), (541, 733), (560, 755), (572, 774)], [(252, 265), (272, 282), (236, 250), (243, 229), (266, 280), (284, 281), (252, 276), (239, 296), (253, 313), (260, 278), (235, 248), (238, 296), (282, 267), (258, 270), (270, 274), (264, 251), (270, 296)], [(18, 796), (12, 835), (2, 789), (8, 769), (12, 829), (28, 756), (21, 826), (6, 805), (6, 806), (26, 766), (17, 758), (15, 837)], [(493, 743), (496, 788), (524, 728), (501, 776), (524, 726), (507, 715), (499, 776), (499, 782), (494, 780), (486, 772), (485, 725), (470, 756), (475, 747), (473, 714), (472, 763)], [(149, 801), (143, 767), (177, 802), (126, 804), (189, 801), (143, 816), (144, 795), (122, 813), (126, 779), (180, 815), (108, 804), (150, 804)], [(208, 166), (225, 187), (216, 127), (233, 149), (198, 140), (219, 132), (216, 179), (183, 158), (204, 190), (209, 142), (199, 202), (172, 178), (241, 153), (198, 173), (221, 185), (232, 187), (196, 167), (222, 161)], [(662, 93), (666, 134), (638, 72), (620, 98), (672, 110), (685, 97), (706, 96), (666, 132), (653, 99), (693, 85), (648, 60), (655, 75), (663, 75), (653, 130), (668, 118), (659, 88)], [(54, 308), (78, 285), (34, 298), (42, 284), (60, 270), (45, 289), (24, 320), (43, 288), (94, 301), (35, 327), (14, 313), (54, 353), (90, 311), (70, 307)], [(971, 808), (941, 796), (955, 840), (950, 802), (969, 776), (962, 832), (949, 791), (978, 781), (969, 766), (969, 844), (972, 767), (995, 795), (972, 785), (982, 819), (957, 794), (968, 776), (964, 789)], [(130, 701), (135, 683), (110, 717), (152, 708), (166, 703), (138, 728), (154, 714), (134, 668), (125, 658), (122, 727), (148, 708), (130, 664), (120, 741), (112, 718), (130, 682), (141, 722), (115, 711), (137, 742)], [(299, 458), (302, 436), (304, 503), (310, 466), (314, 445), (273, 437), (286, 477), (311, 474), (281, 473), (327, 480), (333, 463), (310, 457), (297, 477), (295, 425), (297, 461), (268, 440), (260, 449), (311, 480), (292, 474), (288, 475), (292, 428), (301, 474)], [(906, 629), (898, 629), (876, 644), (922, 638), (913, 596), (882, 627), (892, 665), (913, 671), (864, 634), (868, 640), (894, 653), (943, 634), (865, 626), (906, 614), (896, 636)], [(944, 704), (931, 680), (958, 676), (950, 704), (928, 683), (913, 695), (949, 683), (956, 693), (959, 695), (942, 738), (954, 707), (955, 729), (952, 663), (966, 726), (916, 683), (906, 705), (937, 706), (958, 709), (906, 710), (925, 677)], [(700, 485), (727, 462), (699, 502), (713, 471), (708, 470), (683, 477), (693, 467), (681, 510), (670, 470), (721, 500), (729, 488), (708, 468), (747, 485), (717, 469), (720, 507), (695, 453), (731, 500), (724, 464), (683, 453), (711, 505)], [(864, 299), (855, 296), (879, 282), (893, 281), (868, 276), (858, 278), (850, 320), (834, 311), (825, 306), (877, 335), (861, 287), (890, 320), (854, 320), (908, 302), (867, 281), (876, 280), (872, 271), (868, 333), (870, 330), (832, 309)], [(626, 457), (644, 425), (609, 430), (599, 465), (621, 412), (607, 440), (642, 483), (638, 472), (601, 451), (616, 448), (598, 453), (632, 456), (631, 498), (597, 443), (658, 442), (651, 474)], [(624, 436), (644, 413), (644, 425), (609, 430), (589, 436), (618, 399), (621, 412), (607, 440), (638, 472), (601, 451), (607, 416), (616, 448), (598, 453), (632, 456), (597, 443), (589, 424), (658, 442), (601, 410)], [(315, 130), (322, 88), (296, 124), (340, 119), (280, 141), (333, 117), (311, 121), (342, 114), (285, 131), (323, 96), (336, 124), (344, 138), (315, 93), (280, 142), (333, 104), (307, 133), (324, 100), (303, 131), (330, 149), (297, 135)], [(145, 720), (188, 726), (135, 683), (110, 717), (143, 767), (152, 708), (166, 703), (151, 740), (186, 728), (138, 728), (154, 714), (122, 727), (148, 708), (109, 733), (186, 722), (120, 741), (112, 718), (141, 722), (115, 711), (137, 742)], [(319, 806), (307, 785), (335, 777), (324, 793), (329, 834), (294, 818), (317, 800), (331, 773), (317, 845), (306, 832), (345, 827), (355, 795), (333, 818), (326, 790), (291, 796), (286, 819)], [(961, 952), (983, 933), (960, 957), (980, 927), (995, 941), (955, 991), (973, 975), (961, 970), (953, 944), (966, 908), (987, 960), (974, 988), (963, 940), (952, 960), (960, 964), (951, 950), (944, 951)], [(839, 106), (831, 132), (842, 94), (818, 125), (812, 120), (829, 92), (793, 105), (854, 140), (844, 70), (841, 71), (801, 99), (832, 135), (837, 112), (843, 68), (864, 98), (823, 125), (863, 99), (859, 135), (826, 134), (812, 86), (818, 103), (839, 138)], [(854, 600), (864, 587), (847, 614), (858, 572), (868, 578), (842, 606), (867, 599), (864, 634), (813, 607), (865, 626), (858, 645)], [(778, 722), (762, 741), (768, 747), (751, 721), (806, 726), (810, 718), (758, 724), (733, 719), (751, 707), (742, 729), (801, 700), (787, 692), (769, 743), (783, 685), (784, 713)], [(239, 878), (228, 857), (270, 888), (216, 872), (211, 866), (224, 881), (257, 872), (249, 916), (212, 882), (206, 894), (267, 889), (243, 882)], [(374, 737), (358, 711), (388, 763), (340, 751), (346, 750), (356, 760), (393, 708), (356, 768), (364, 763), (401, 754), (347, 753), (363, 768), (352, 738), (402, 753), (381, 748), (366, 724)], [(43, 973), (38, 931), (40, 978), (83, 967), (46, 985), (52, 990), (17, 978), (66, 975), (37, 962), (29, 992), (55, 979), (57, 976), (49, 975)], [(759, 116), (747, 152), (718, 123), (780, 145), (738, 119), (752, 147), (793, 105), (758, 141), (737, 112), (774, 128), (719, 113), (780, 101), (729, 103), (771, 142), (768, 107), (724, 113)], [(76, 863), (84, 851), (96, 869), (83, 842), (82, 843), (103, 882), (92, 865), (81, 871), (69, 828), (58, 872), (59, 873), (73, 857), (66, 852)], [(255, 209), (240, 188), (243, 229), (256, 175), (263, 203), (266, 192), (264, 226), (275, 194), (225, 225), (300, 210), (232, 187), (250, 211), (240, 193)], [(183, 142), (216, 127), (148, 137), (198, 140), (219, 132), (183, 158), (166, 156), (209, 142), (188, 122), (174, 128), (172, 178), (185, 120), (198, 173), (165, 119), (165, 121), (196, 167)], [(542, 435), (504, 430), (547, 478), (589, 436), (523, 422), (575, 445), (535, 426), (531, 433), (537, 428), (533, 470), (550, 396), (535, 444), (532, 426), (541, 422), (526, 456), (557, 438)], [(409, 813), (422, 815), (395, 817), (398, 819), (424, 795), (389, 825), (382, 793), (383, 791), (420, 833), (432, 798), (415, 820)], [(578, 457), (599, 465), (589, 436), (607, 440), (592, 486), (585, 470), (575, 445), (601, 451), (586, 498), (616, 448), (598, 453), (600, 485), (597, 443), (589, 424), (583, 413), (557, 438)], [(16, 305), (34, 298), (42, 284), (2, 330), (12, 269), (11, 270), (6, 286), (45, 289), (24, 320), (15, 289), (43, 288), (13, 345), (35, 327), (14, 313), (27, 333), (14, 260), (27, 281)], [(930, 784), (885, 780), (925, 775), (943, 768), (941, 796), (920, 758), (950, 802), (939, 775), (969, 776), (949, 791), (924, 756), (936, 763), (972, 785), (930, 789), (889, 789), (901, 778), (905, 802), (957, 794), (902, 802), (968, 776), (964, 789)], [(745, 178), (738, 164), (747, 152), (752, 147), (758, 141), (733, 154), (780, 191), (739, 216), (726, 179), (775, 169), (782, 188), (734, 204), (778, 189), (750, 178), (764, 192), (765, 193), (744, 165)], [(816, 259), (839, 259), (815, 296), (776, 265), (824, 284), (816, 263), (839, 246), (794, 233), (821, 272), (808, 258), (801, 266), (799, 282), (777, 264)], [(767, 684), (776, 669), (722, 684), (798, 678), (733, 678), (748, 678), (736, 682), (766, 664), (758, 724), (760, 682), (751, 707), (728, 674), (732, 685), (801, 700), (787, 692), (763, 658), (783, 685), (747, 685), (767, 634), (790, 668), (784, 713), (743, 705)], [(698, 489), (699, 502), (713, 471), (692, 533), (708, 470), (656, 496), (683, 477), (650, 488), (693, 467), (681, 510), (670, 470), (721, 500), (691, 530), (729, 488), (708, 468), (717, 469), (720, 507), (695, 453), (731, 500), (711, 505)], [(870, 975), (835, 984), (837, 975), (870, 952), (903, 972), (872, 939), (898, 994), (856, 948), (846, 964), (880, 975), (842, 978), (887, 958)], [(211, 75), (234, 57), (186, 70), (195, 96), (251, 69), (230, 50), (180, 65), (237, 82), (237, 68), (234, 80), (205, 43), (175, 87), (221, 70), (205, 67), (179, 77), (201, 101), (213, 107)], [(323, 210), (308, 228), (338, 216), (343, 225), (315, 245), (306, 178), (350, 208), (334, 236), (319, 225), (324, 248), (346, 230), (300, 210), (339, 207), (329, 217), (319, 201), (302, 185)], [(663, 835), (639, 812), (645, 863), (684, 807), (680, 834), (696, 834), (643, 861), (704, 842), (658, 839), (646, 827), (646, 809), (669, 841), (652, 813), (641, 843), (657, 828), (699, 843)], [(368, 993), (337, 986), (360, 991), (343, 987), (386, 967), (379, 979), (412, 989), (334, 983), (344, 976), (395, 974), (397, 980), (362, 973)], [(392, 977), (360, 991), (396, 959), (386, 967), (379, 979), (412, 989), (431, 983), (390, 935), (344, 976), (395, 974), (397, 980), (362, 973)], [(718, 666), (722, 684), (707, 651), (733, 678), (748, 678), (704, 630), (695, 662), (736, 682), (684, 666), (766, 664), (728, 674), (732, 685), (702, 640), (728, 663), (742, 653), (747, 685), (728, 647)], [(37, 73), (16, 87), (27, 44), (33, 116), (57, 67), (42, 54), (50, 45), (70, 67), (0, 78), (37, 118), (70, 73), (68, 70), (36, 27), (53, 39)], [(218, 61), (234, 57), (186, 70), (232, 41), (251, 69), (230, 50), (180, 65), (237, 82), (237, 68), (234, 80), (205, 43), (221, 70), (205, 67), (242, 53), (244, 50), (170, 63)], [(889, 14), (882, 28), (886, 58), (892, 30), (900, 34), (853, 10), (892, 19), (893, 30), (909, 41), (918, 21), (851, 23), (900, 13), (851, 11), (903, 33), (912, 36), (904, 43)], [(675, 932), (667, 948), (642, 927), (659, 922), (683, 933), (663, 936), (687, 958), (628, 933), (674, 964), (693, 918), (675, 889)], [(119, 514), (116, 491), (110, 541), (110, 544), (125, 480), (144, 508), (121, 540), (165, 511), (160, 510), (103, 514), (104, 498), (159, 512), (124, 475), (81, 510), (136, 494), (123, 534)], [(272, 272), (272, 282), (289, 280), (266, 280), (284, 281), (252, 276), (298, 256), (301, 283), (307, 287), (260, 278), (312, 268), (282, 267), (258, 270), (270, 274), (264, 251), (299, 278), (270, 296), (309, 281)], [(842, 912), (823, 916), (847, 943), (796, 913), (836, 870), (856, 948), (854, 874), (795, 909), (831, 940), (853, 909), (844, 928), (842, 877), (798, 916), (842, 888)], [(48, 213), (36, 177), (61, 210), (40, 173), (74, 213), (31, 208), (61, 216), (42, 201), (49, 260), (45, 177), (93, 217), (35, 194), (56, 220), (81, 209), (15, 206)], [(713, 472), (727, 462), (699, 502), (749, 473), (725, 459), (710, 429), (713, 471), (727, 439), (708, 470), (683, 477), (693, 467), (670, 470), (721, 500), (729, 488), (708, 468), (747, 485), (717, 469), (720, 507), (695, 453), (731, 500), (760, 470), (724, 464), (683, 453), (711, 505)], [(461, 550), (495, 535), (450, 524), (442, 578), (454, 588), (441, 523), (496, 562), (442, 525), (452, 551), (443, 528), (435, 553), (444, 551), (502, 547), (436, 548), (427, 545), (436, 535), (455, 560), (441, 558), (443, 542), (493, 557), (417, 555), (424, 547)], [(827, 552), (821, 512), (811, 545), (820, 541), (831, 531), (818, 551), (846, 526), (835, 544), (832, 508), (796, 567), (821, 536), (805, 572), (819, 581), (815, 558), (834, 564), (865, 545), (827, 517), (835, 554)], [(130, 313), (144, 332), (154, 298), (141, 328), (131, 272), (137, 356), (110, 321), (146, 302), (130, 343), (142, 341), (166, 324), (169, 318), (103, 298), (126, 293), (94, 301), (125, 292), (142, 325), (151, 303), (90, 311), (146, 342), (129, 291), (156, 311), (170, 314)], [(789, 878), (751, 875), (810, 859), (803, 868), (790, 898), (807, 856), (788, 829), (799, 845), (795, 846), (813, 853), (762, 889), (796, 913), (796, 906), (762, 876), (787, 902), (791, 890), (813, 886), (795, 909), (798, 916)]]\n"
          ]
        }
      ]
    },
    {
      "cell_type": "code",
      "metadata": {
        "colab": {
          "base_uri": "https://localhost:8080/",
          "height": 225
        },
        "id": "FvEPn4Q5WtaJ",
        "outputId": "e52c3ead-4057-4900-effd-c34cdbdb6378"
      },
      "source": [
        "#comprobamos en el 1er grupo\n",
        "display(nearest_neighbour(pointsC[0]))"
      ],
      "execution_count": 52,
      "outputs": [
        {
          "output_type": "display_data",
          "data": {
            "text/plain": [
              "([None,\n",
              "  (193, 891),\n",
              "  (190, 899),\n",
              "  (211, 866),\n",
              "  (190, 906),\n",
              "  (216, 872),\n",
              "  (157, 877),\n",
              "  (197, 904),\n",
              "  (224, 881),\n",
              "  (206, 894),\n",
              "  (193, 871)],\n",
              " 518)"
            ]
          },
          "metadata": {}
        }
      ]
    },
    {
      "cell_type": "code",
      "metadata": {
        "colab": {
          "base_uri": "https://localhost:8080/",
          "height": 1000
        },
        "id": "bgNG7X-nXR24",
        "outputId": "de6a0138-5425-4823-b001-1a0250acedc5"
      },
      "source": [
        "#comprobamos en todos los grupos\n",
        "for group in pointsC:\n",
        "  display(nearest_neighbour(group))"
      ],
      "execution_count": 53,
      "outputs": [
        {
          "output_type": "display_data",
          "data": {
            "text/plain": [
              "([None,\n",
              "  (193, 891),\n",
              "  (190, 899),\n",
              "  (211, 866),\n",
              "  (190, 906),\n",
              "  (216, 872),\n",
              "  (157, 877),\n",
              "  (197, 904),\n",
              "  (224, 881),\n",
              "  (206, 894),\n",
              "  (193, 871)],\n",
              " 518)"
            ]
          },
          "metadata": {}
        },
        {
          "output_type": "display_data",
          "data": {
            "text/plain": [
              "([None,\n",
              "  (782, 501),\n",
              "  (775, 561),\n",
              "  (753, 566),\n",
              "  (775, 539),\n",
              "  (805, 572),\n",
              "  (777, 518),\n",
              "  (796, 567),\n",
              "  (793, 532),\n",
              "  (811, 545),\n",
              "  (776, 538),\n",
              "  (779, 548),\n",
              "  (746, 532),\n",
              "  (818, 551),\n",
              "  (820, 541),\n",
              "  (815, 558),\n",
              "  (791, 575)],\n",
              " 1070)"
            ]
          },
          "metadata": {}
        },
        {
          "output_type": "display_data",
          "data": {
            "text/plain": [
              "([None,\n",
              "  (331, 773),\n",
              "  (335, 715),\n",
              "  (309, 737),\n",
              "  (358, 711),\n",
              "  (346, 750),\n",
              "  (347, 753),\n",
              "  (328, 759),\n",
              "  (330, 714),\n",
              "  (381, 748),\n",
              "  (364, 763),\n",
              "  (366, 724),\n",
              "  (311, 722),\n",
              "  (311, 721),\n",
              "  (352, 738),\n",
              "  (327, 746),\n",
              "  (356, 768),\n",
              "  (309, 750),\n",
              "  (341, 738),\n",
              "  (335, 777),\n",
              "  (356, 760)],\n",
              " 1304)"
            ]
          },
          "metadata": {}
        },
        {
          "output_type": "display_data",
          "data": {
            "text/plain": [
              "([None,\n",
              "  (479, 437),\n",
              "  (490, 405),\n",
              "  (516, 410),\n",
              "  (482, 428),\n",
              "  (505, 419),\n",
              "  (455, 428),\n",
              "  (448, 412),\n",
              "  (518, 398),\n",
              "  (467, 391),\n",
              "  (460, 422),\n",
              "  (479, 404),\n",
              "  (496, 391),\n",
              "  (463, 421),\n",
              "  (507, 396),\n",
              "  (457, 393),\n",
              "  (464, 386)],\n",
              " 1020)"
            ]
          },
          "metadata": {}
        },
        {
          "output_type": "display_data",
          "data": {
            "text/plain": [
              "([None,\n",
              "  (344, 864),\n",
              "  (333, 915),\n",
              "  (356, 934),\n",
              "  (352, 891),\n",
              "  (357, 890),\n",
              "  (345, 900),\n",
              "  (338, 923),\n",
              "  (326, 910),\n",
              "  (333, 903),\n",
              "  (370, 901),\n",
              "  (366, 858),\n",
              "  (392, 893),\n",
              "  (371, 879),\n",
              "  (368, 867),\n",
              "  (342, 856)],\n",
              " 980)"
            ]
          },
          "metadata": {}
        },
        {
          "output_type": "display_data",
          "data": {
            "text/plain": [
              "([None,\n",
              "  (120, 741),\n",
              "  (143, 767),\n",
              "  (122, 727),\n",
              "  (126, 779),\n",
              "  (112, 718),\n",
              "  (82, 764),\n",
              "  (89, 757),\n",
              "  (115, 711),\n",
              "  (151, 740),\n",
              "  (103, 764),\n",
              "  (110, 717),\n",
              "  (138, 728),\n",
              "  (109, 733),\n",
              "  (111, 766),\n",
              "  (111, 765),\n",
              "  (116, 753),\n",
              "  (104, 765),\n",
              "  (164, 755),\n",
              "  (89, 738),\n",
              "  (137, 742)],\n",
              " 1260)"
            ]
          },
          "metadata": {}
        },
        {
          "output_type": "display_data",
          "data": {
            "text/plain": [
              "([None,\n",
              "  (908, 471),\n",
              "  (918, 509),\n",
              "  (922, 436),\n",
              "  (908, 489),\n",
              "  (930, 488),\n",
              "  (955, 463),\n",
              "  (939, 433),\n",
              "  (924, 468),\n",
              "  (923, 489),\n",
              "  (946, 456),\n",
              "  (896, 476),\n",
              "  (961, 474),\n",
              "  (899, 483),\n",
              "  (963, 460),\n",
              "  (955, 469),\n",
              "  (950, 455),\n",
              "  (917, 508),\n",
              "  (933, 461),\n",
              "  (938, 441),\n",
              "  (919, 439),\n",
              "  (942, 451)],\n",
              " 1452)"
            ]
          },
          "metadata": {}
        },
        {
          "output_type": "display_data",
          "data": {
            "text/plain": [
              "([None,\n",
              "  (24, 215),\n",
              "  (15, 206),\n",
              "  (24, 246),\n",
              "  (61, 216),\n",
              "  (35, 194),\n",
              "  (36, 177),\n",
              "  (3, 190),\n",
              "  (31, 208),\n",
              "  (12, 241),\n",
              "  (61, 210),\n",
              "  (5, 193),\n",
              "  (56, 220),\n",
              "  (30, 174)],\n",
              " 834)"
            ]
          },
          "metadata": {}
        },
        {
          "output_type": "display_data",
          "data": {
            "text/plain": [
              "([None,\n",
              "  (276, 60),\n",
              "  (271, 61),\n",
              "  (331, 44),\n",
              "  (306, 48),\n",
              "  (306, 70),\n",
              "  (329, 35),\n",
              "  (305, 70),\n",
              "  (274, 52),\n",
              "  (318, 26),\n",
              "  (304, 51)],\n",
              " 542)"
            ]
          },
          "metadata": {}
        },
        {
          "output_type": "display_data",
          "data": {
            "text/plain": [
              "([None,\n",
              "  (68, 496),\n",
              "  (81, 510),\n",
              "  (12, 498),\n",
              "  (49, 542),\n",
              "  (61, 530),\n",
              "  (37, 539),\n",
              "  (36, 515),\n",
              "  (37, 511),\n",
              "  (1, 519),\n",
              "  (55, 498),\n",
              "  (49, 486),\n",
              "  (41, 525),\n",
              "  (69, 504)],\n",
              " 754)"
            ]
          },
          "metadata": {}
        },
        {
          "output_type": "display_data",
          "data": {
            "text/plain": [
              "([None,\n",
              "  (955, 573),\n",
              "  (986, 563),\n",
              "  (993, 595),\n",
              "  (963, 545),\n",
              "  (981, 548),\n",
              "  (991, 562),\n",
              "  (979, 548),\n",
              "  (998, 562),\n",
              "  (992, 529),\n",
              "  (978, 575),\n",
              "  (997, 605),\n",
              "  (989, 608),\n",
              "  (988, 516),\n",
              "  (989, 515),\n",
              "  (978, 577),\n",
              "  (943, 561)],\n",
              " 974)"
            ]
          },
          "metadata": {}
        },
        {
          "output_type": "display_data",
          "data": {
            "text/plain": [
              "([None,\n",
              "  (210, 700),\n",
              "  (198, 688),\n",
              "  (209, 733),\n",
              "  (186, 698),\n",
              "  (186, 722),\n",
              "  (221, 712),\n",
              "  (189, 756),\n",
              "  (188, 696),\n",
              "  (186, 728),\n",
              "  (216, 707),\n",
              "  (212, 728),\n",
              "  (188, 726),\n",
              "  (200, 720)],\n",
              " 702)"
            ]
          },
          "metadata": {}
        },
        {
          "output_type": "display_data",
          "data": {
            "text/plain": [
              "([None,\n",
              "  (653, 99),\n",
              "  (704, 130),\n",
              "  (719, 113),\n",
              "  (718, 123),\n",
              "  (715, 108),\n",
              "  (685, 97),\n",
              "  (694, 106),\n",
              "  (737, 112),\n",
              "  (729, 103),\n",
              "  (724, 113),\n",
              "  (672, 110),\n",
              "  (681, 140),\n",
              "  (668, 118),\n",
              "  (698, 70),\n",
              "  (685, 128),\n",
              "  (693, 85),\n",
              "  (677, 130),\n",
              "  (727, 94),\n",
              "  (694, 61)],\n",
              " 1300)"
            ]
          },
          "metadata": {}
        },
        {
          "output_type": "display_data",
          "data": {
            "text/plain": [
              "([None,\n",
              "  (775, 539),\n",
              "  (777, 518),\n",
              "  (782, 501),\n",
              "  (772, 556),\n",
              "  (815, 558),\n",
              "  (746, 532),\n",
              "  (776, 538),\n",
              "  (796, 501),\n",
              "  (821, 536),\n",
              "  (805, 522),\n",
              "  (775, 561),\n",
              "  (785, 539),\n",
              "  (820, 541),\n",
              "  (791, 575),\n",
              "  (796, 567),\n",
              "  (818, 551),\n",
              "  (811, 545)],\n",
              " 1128)"
            ]
          },
          "metadata": {}
        },
        {
          "output_type": "display_data",
          "data": {
            "text/plain": [
              "([None,\n",
              "  (956, 274),\n",
              "  (976, 245),\n",
              "  (975, 249),\n",
              "  (976, 270),\n",
              "  (956, 298),\n",
              "  (989, 260),\n",
              "  (960, 281),\n",
              "  (949, 260),\n",
              "  (970, 271),\n",
              "  (954, 238),\n",
              "  (960, 302),\n",
              "  (950, 292),\n",
              "  (928, 284),\n",
              "  (945, 289),\n",
              "  (951, 257),\n",
              "  (938, 295),\n",
              "  (959, 241)],\n",
              " 984)"
            ]
          },
          "metadata": {}
        },
        {
          "output_type": "display_data",
          "data": {
            "text/plain": [
              "([None,\n",
              "  (103, 514),\n",
              "  (102, 554),\n",
              "  (144, 544),\n",
              "  (168, 548),\n",
              "  (146, 555),\n",
              "  (120, 565),\n",
              "  (110, 541),\n",
              "  (82, 542),\n",
              "  (123, 534),\n",
              "  (83, 550),\n",
              "  (112, 565),\n",
              "  (121, 546),\n",
              "  (146, 562),\n",
              "  (144, 540),\n",
              "  (103, 567),\n",
              "  (88, 550),\n",
              "  (81, 540),\n",
              "  (79, 547),\n",
              "  (121, 540),\n",
              "  (149, 551)],\n",
              " 1212)"
            ]
          },
          "metadata": {}
        },
        {
          "output_type": "display_data",
          "data": {
            "text/plain": [
              "([None,\n",
              "  (668, 570),\n",
              "  (650, 611),\n",
              "  (646, 616),\n",
              "  (665, 581),\n",
              "  (685, 572),\n",
              "  (659, 611),\n",
              "  (688, 567),\n",
              "  (674, 595),\n",
              "  (671, 611),\n",
              "  (633, 598),\n",
              "  (678, 625),\n",
              "  (642, 565),\n",
              "  (624, 593),\n",
              "  (663, 635),\n",
              "  (670, 602),\n",
              "  (690, 578),\n",
              "  (667, 568),\n",
              "  (666, 588)],\n",
              " 1114)"
            ]
          },
          "metadata": {}
        },
        {
          "output_type": "display_data",
          "data": {
            "text/plain": [
              "([None,\n",
              "  (915, 140),\n",
              "  (870, 192),\n",
              "  (924, 166),\n",
              "  (917, 140),\n",
              "  (865, 157),\n",
              "  (907, 140),\n",
              "  (887, 163),\n",
              "  (930, 157),\n",
              "  (846, 156),\n",
              "  (890, 162),\n",
              "  (876, 167),\n",
              "  (863, 167),\n",
              "  (890, 202),\n",
              "  (856, 149),\n",
              "  (924, 156)],\n",
              " 1050)"
            ]
          },
          "metadata": {}
        },
        {
          "output_type": "display_data",
          "data": {
            "text/plain": [
              "([None,\n",
              "  (771, 65),\n",
              "  (791, 65),\n",
              "  (745, 66),\n",
              "  (774, 50),\n",
              "  (780, 101),\n",
              "  (765, 64),\n",
              "  (768, 107),\n",
              "  (811, 69),\n",
              "  (775, 77),\n",
              "  (775, 35),\n",
              "  (773, 34),\n",
              "  (810, 56),\n",
              "  (781, 48),\n",
              "  (794, 59),\n",
              "  (773, 73)],\n",
              " 766)"
            ]
          },
          "metadata": {}
        },
        {
          "output_type": "display_data",
          "data": {
            "text/plain": [
              "([None,\n",
              "  (930, 157),\n",
              "  (936, 143),\n",
              "  (970, 186),\n",
              "  (989, 179),\n",
              "  (933, 188),\n",
              "  (954, 193),\n",
              "  (955, 187),\n",
              "  (974, 149),\n",
              "  (957, 166),\n",
              "  (924, 166),\n",
              "  (944, 188),\n",
              "  (966, 186),\n",
              "  (924, 156),\n",
              "  (951, 144)],\n",
              " 872)"
            ]
          },
          "metadata": {}
        },
        {
          "output_type": "display_data",
          "data": {
            "text/plain": [
              "([None,\n",
              "  (539, 763),\n",
              "  (546, 785),\n",
              "  (514, 777),\n",
              "  (572, 774),\n",
              "  (533, 766),\n",
              "  (553, 734),\n",
              "  (532, 795),\n",
              "  (535, 755),\n",
              "  (524, 728),\n",
              "  (560, 755),\n",
              "  (552, 760),\n",
              "  (563, 738),\n",
              "  (523, 769),\n",
              "  (568, 784),\n",
              "  (537, 786),\n",
              "  (541, 733)],\n",
              " 928)"
            ]
          },
          "metadata": {}
        },
        {
          "output_type": "display_data",
          "data": {
            "text/plain": [
              "([None,\n",
              "  (236, 250),\n",
              "  (284, 281),\n",
              "  (253, 313),\n",
              "  (258, 270),\n",
              "  (235, 248),\n",
              "  (264, 251),\n",
              "  (282, 267),\n",
              "  (252, 265),\n",
              "  (266, 280),\n",
              "  (270, 296),\n",
              "  (272, 282),\n",
              "  (238, 296),\n",
              "  (270, 274),\n",
              "  (252, 276),\n",
              "  (239, 296),\n",
              "  (243, 229)],\n",
              " 932)"
            ]
          },
          "metadata": {}
        },
        {
          "output_type": "display_data",
          "data": {
            "text/plain": [
              "([None,\n",
              "  (28, 756),\n",
              "  (21, 826),\n",
              "  (12, 829),\n",
              "  (17, 758),\n",
              "  (18, 796),\n",
              "  (8, 769),\n",
              "  (6, 806),\n",
              "  (2, 789),\n",
              "  (12, 835),\n",
              "  (15, 837),\n",
              "  (26, 766)],\n",
              " 700)"
            ]
          },
          "metadata": {}
        },
        {
          "output_type": "display_data",
          "data": {
            "text/plain": [
              "([None,\n",
              "  (473, 714),\n",
              "  (472, 763),\n",
              "  (475, 747),\n",
              "  (496, 788),\n",
              "  (494, 780),\n",
              "  (470, 756),\n",
              "  (485, 725),\n",
              "  (524, 728),\n",
              "  (507, 715),\n",
              "  (486, 772),\n",
              "  (501, 776),\n",
              "  (499, 782),\n",
              "  (493, 743),\n",
              "  (524, 726)],\n",
              " 1022)"
            ]
          },
          "metadata": {}
        },
        {
          "output_type": "display_data",
          "data": {
            "text/plain": [
              "([None,\n",
              "  (180, 815),\n",
              "  (108, 804),\n",
              "  (144, 795),\n",
              "  (143, 767),\n",
              "  (126, 804),\n",
              "  (122, 813),\n",
              "  (177, 802),\n",
              "  (149, 801),\n",
              "  (126, 779),\n",
              "  (189, 801),\n",
              "  (143, 816)],\n",
              " 640)"
            ]
          },
          "metadata": {}
        },
        {
          "output_type": "display_data",
          "data": {
            "text/plain": [
              "([None,\n",
              "  (198, 140),\n",
              "  (172, 178),\n",
              "  (216, 179),\n",
              "  (232, 187),\n",
              "  (204, 190),\n",
              "  (209, 142),\n",
              "  (225, 187),\n",
              "  (241, 153),\n",
              "  (221, 185),\n",
              "  (216, 127),\n",
              "  (208, 166),\n",
              "  (199, 202),\n",
              "  (233, 149),\n",
              "  (183, 158),\n",
              "  (219, 132),\n",
              "  (222, 161),\n",
              "  (198, 173)],\n",
              " 1118)"
            ]
          },
          "metadata": {}
        },
        {
          "output_type": "display_data",
          "data": {
            "text/plain": [
              "([None,\n",
              "  (648, 60),\n",
              "  (666, 134),\n",
              "  (662, 93),\n",
              "  (663, 75),\n",
              "  (653, 130),\n",
              "  (620, 98),\n",
              "  (638, 72),\n",
              "  (659, 88),\n",
              "  (666, 132),\n",
              "  (706, 96),\n",
              "  (685, 97),\n",
              "  (668, 118),\n",
              "  (693, 85),\n",
              "  (655, 75),\n",
              "  (672, 110)],\n",
              " 990)"
            ]
          },
          "metadata": {}
        },
        {
          "output_type": "display_data",
          "data": {
            "text/plain": [
              "([None,\n",
              "  (54, 308),\n",
              "  (45, 289),\n",
              "  (90, 311),\n",
              "  (54, 353),\n",
              "  (35, 327),\n",
              "  (60, 270),\n",
              "  (34, 298),\n",
              "  (14, 313),\n",
              "  (70, 307),\n",
              "  (78, 285),\n",
              "  (94, 301),\n",
              "  (24, 320),\n",
              "  (42, 284)],\n",
              " 872)"
            ]
          },
          "metadata": {}
        },
        {
          "output_type": "display_data",
          "data": {
            "text/plain": [
              "([None,\n",
              "  (995, 795),\n",
              "  (971, 808),\n",
              "  (978, 781),\n",
              "  (950, 802),\n",
              "  (969, 766),\n",
              "  (982, 819),\n",
              "  (949, 791),\n",
              "  (969, 844),\n",
              "  (972, 767),\n",
              "  (955, 840),\n",
              "  (962, 832),\n",
              "  (964, 789),\n",
              "  (941, 796),\n",
              "  (969, 776),\n",
              "  (957, 794),\n",
              "  (968, 776)],\n",
              " 864)"
            ]
          },
          "metadata": {}
        },
        {
          "output_type": "display_data",
          "data": {
            "text/plain": [
              "([None,\n",
              "  (112, 718),\n",
              "  (166, 703),\n",
              "  (115, 711),\n",
              "  (130, 664),\n",
              "  (152, 708),\n",
              "  (130, 682),\n",
              "  (110, 717),\n",
              "  (120, 741),\n",
              "  (135, 683),\n",
              "  (138, 728),\n",
              "  (137, 742),\n",
              "  (130, 701),\n",
              "  (134, 668),\n",
              "  (122, 727),\n",
              "  (148, 708),\n",
              "  (154, 714),\n",
              "  (125, 658)],\n",
              " 1032)"
            ]
          },
          "metadata": {}
        },
        {
          "output_type": "display_data",
          "data": {
            "text/plain": [
              "([None,\n",
              "  (310, 466),\n",
              "  (299, 458),\n",
              "  (292, 428),\n",
              "  (281, 473),\n",
              "  (333, 463),\n",
              "  (314, 445),\n",
              "  (295, 425),\n",
              "  (302, 436),\n",
              "  (268, 440),\n",
              "  (260, 449),\n",
              "  (286, 477),\n",
              "  (301, 474),\n",
              "  (311, 480),\n",
              "  (288, 475),\n",
              "  (304, 503),\n",
              "  (327, 480),\n",
              "  (273, 437),\n",
              "  (297, 461),\n",
              "  (310, 457),\n",
              "  (311, 474),\n",
              "  (292, 474)],\n",
              " 1236)"
            ]
          },
          "metadata": {}
        },
        {
          "output_type": "display_data",
          "data": {
            "text/plain": [
              "([None,\n",
              "  (896, 636),\n",
              "  (922, 638),\n",
              "  (864, 634),\n",
              "  (892, 665),\n",
              "  (894, 653),\n",
              "  (906, 629),\n",
              "  (865, 626),\n",
              "  (913, 671),\n",
              "  (913, 596),\n",
              "  (906, 614),\n",
              "  (868, 640),\n",
              "  (943, 634),\n",
              "  (876, 644),\n",
              "  (882, 627)],\n",
              " 878)"
            ]
          },
          "metadata": {}
        },
        {
          "output_type": "display_data",
          "data": {
            "text/plain": [
              "([None,\n",
              "  (958, 709),\n",
              "  (906, 710),\n",
              "  (928, 683),\n",
              "  (954, 707),\n",
              "  (942, 738),\n",
              "  (950, 704),\n",
              "  (959, 695),\n",
              "  (937, 706),\n",
              "  (925, 677),\n",
              "  (931, 680),\n",
              "  (916, 683),\n",
              "  (944, 704),\n",
              "  (906, 705),\n",
              "  (966, 726),\n",
              "  (958, 676),\n",
              "  (949, 683),\n",
              "  (913, 695),\n",
              "  (952, 663),\n",
              "  (955, 729)],\n",
              " 1176)"
            ]
          },
          "metadata": {}
        },
        {
          "output_type": "display_data",
          "data": {
            "text/plain": [
              "([None,\n",
              "  (700, 485),\n",
              "  (724, 464),\n",
              "  (708, 470),\n",
              "  (717, 469),\n",
              "  (721, 500),\n",
              "  (729, 488),\n",
              "  (727, 462),\n",
              "  (731, 500),\n",
              "  (695, 453),\n",
              "  (683, 477),\n",
              "  (713, 471),\n",
              "  (681, 510),\n",
              "  (699, 502),\n",
              "  (670, 470),\n",
              "  (720, 507),\n",
              "  (683, 453),\n",
              "  (711, 505),\n",
              "  (747, 485),\n",
              "  (693, 467)],\n",
              " 1204)"
            ]
          },
          "metadata": {}
        },
        {
          "output_type": "display_data",
          "data": {
            "text/plain": [
              "([None,\n",
              "  (861, 287),\n",
              "  (850, 320),\n",
              "  (825, 306),\n",
              "  (890, 320),\n",
              "  (868, 333),\n",
              "  (872, 271),\n",
              "  (893, 281),\n",
              "  (877, 335),\n",
              "  (864, 299),\n",
              "  (870, 330),\n",
              "  (858, 278),\n",
              "  (879, 282),\n",
              "  (834, 311),\n",
              "  (855, 296),\n",
              "  (854, 320),\n",
              "  (832, 309),\n",
              "  (876, 280),\n",
              "  (868, 276),\n",
              "  (908, 302)],\n",
              " 1256)"
            ]
          },
          "metadata": {}
        },
        {
          "output_type": "display_data",
          "data": {
            "text/plain": [
              "([None,\n",
              "  (626, 457),\n",
              "  (642, 483),\n",
              "  (658, 442),\n",
              "  (631, 498),\n",
              "  (638, 472),\n",
              "  (621, 412),\n",
              "  (597, 443),\n",
              "  (616, 448),\n",
              "  (598, 453),\n",
              "  (632, 456),\n",
              "  (599, 465),\n",
              "  (644, 425),\n",
              "  (651, 474),\n",
              "  (607, 440),\n",
              "  (609, 430)],\n",
              " 1000)"
            ]
          },
          "metadata": {}
        },
        {
          "output_type": "display_data",
          "data": {
            "text/plain": [
              "([None,\n",
              "  (598, 453),\n",
              "  (601, 451),\n",
              "  (616, 448),\n",
              "  (644, 425),\n",
              "  (632, 456),\n",
              "  (589, 436),\n",
              "  (609, 430),\n",
              "  (624, 436),\n",
              "  (644, 413),\n",
              "  (597, 443),\n",
              "  (607, 416),\n",
              "  (618, 399),\n",
              "  (589, 424),\n",
              "  (621, 412),\n",
              "  (658, 442),\n",
              "  (601, 410),\n",
              "  (638, 472)],\n",
              " 1094)"
            ]
          },
          "metadata": {}
        },
        {
          "output_type": "display_data",
          "data": {
            "text/plain": [
              "([None,\n",
              "  (315, 130),\n",
              "  (330, 149),\n",
              "  (296, 124),\n",
              "  (333, 104),\n",
              "  (303, 131),\n",
              "  (336, 124),\n",
              "  (280, 141),\n",
              "  (342, 114),\n",
              "  (285, 131),\n",
              "  (307, 133),\n",
              "  (324, 100),\n",
              "  (344, 138),\n",
              "  (322, 88),\n",
              "  (280, 142),\n",
              "  (333, 117),\n",
              "  (297, 135),\n",
              "  (340, 119),\n",
              "  (315, 93),\n",
              "  (323, 96)],\n",
              " 1214)"
            ]
          },
          "metadata": {}
        },
        {
          "output_type": "display_data",
          "data": {
            "text/plain": [
              "([None,\n",
              "  (145, 720),\n",
              "  (188, 726),\n",
              "  (152, 708),\n",
              "  (115, 711),\n",
              "  (120, 741),\n",
              "  (109, 733),\n",
              "  (110, 717),\n",
              "  (135, 683),\n",
              "  (148, 708),\n",
              "  (137, 742),\n",
              "  (154, 714),\n",
              "  (122, 727),\n",
              "  (186, 722),\n",
              "  (143, 767),\n",
              "  (166, 703),\n",
              "  (151, 740),\n",
              "  (138, 728),\n",
              "  (186, 728),\n",
              "  (112, 718)],\n",
              " 1230)"
            ]
          },
          "metadata": {}
        },
        {
          "output_type": "display_data",
          "data": {
            "text/plain": [
              "([None,\n",
              "  (329, 834),\n",
              "  (286, 819),\n",
              "  (333, 818),\n",
              "  (291, 796),\n",
              "  (331, 773),\n",
              "  (324, 793),\n",
              "  (306, 832),\n",
              "  (307, 785),\n",
              "  (335, 777),\n",
              "  (319, 806),\n",
              "  (317, 845),\n",
              "  (326, 790),\n",
              "  (294, 818),\n",
              "  (345, 827),\n",
              "  (355, 795)],\n",
              " 1022)"
            ]
          },
          "metadata": {}
        },
        {
          "output_type": "display_data",
          "data": {
            "text/plain": [
              "([None,\n",
              "  (961, 970),\n",
              "  (951, 950),\n",
              "  (974, 988),\n",
              "  (955, 991),\n",
              "  (966, 908),\n",
              "  (952, 960),\n",
              "  (980, 927),\n",
              "  (987, 960),\n",
              "  (961, 952),\n",
              "  (944, 951),\n",
              "  (995, 941),\n",
              "  (960, 964),\n",
              "  (983, 933),\n",
              "  (953, 944),\n",
              "  (963, 940),\n",
              "  (973, 975)],\n",
              " 836)"
            ]
          },
          "metadata": {}
        },
        {
          "output_type": "display_data",
          "data": {
            "text/plain": [
              "([None,\n",
              "  (842, 94),\n",
              "  (823, 125),\n",
              "  (841, 71),\n",
              "  (843, 68),\n",
              "  (831, 132),\n",
              "  (854, 140),\n",
              "  (839, 106),\n",
              "  (812, 120),\n",
              "  (826, 134),\n",
              "  (839, 138),\n",
              "  (864, 98),\n",
              "  (829, 92),\n",
              "  (801, 99),\n",
              "  (818, 125),\n",
              "  (863, 99),\n",
              "  (832, 135),\n",
              "  (793, 105),\n",
              "  (844, 70),\n",
              "  (859, 135),\n",
              "  (837, 112),\n",
              "  (812, 86)],\n",
              " 1464)"
            ]
          },
          "metadata": {}
        },
        {
          "output_type": "display_data",
          "data": {
            "text/plain": [
              "([None,\n",
              "  (842, 606),\n",
              "  (864, 587),\n",
              "  (864, 634),\n",
              "  (813, 607),\n",
              "  (865, 626),\n",
              "  (847, 614),\n",
              "  (868, 578),\n",
              "  (858, 645),\n",
              "  (858, 572),\n",
              "  (854, 600)],\n",
              " 582)"
            ]
          },
          "metadata": {}
        },
        {
          "output_type": "display_data",
          "data": {
            "text/plain": [
              "([None,\n",
              "  (783, 685),\n",
              "  (787, 692),\n",
              "  (806, 726),\n",
              "  (751, 707),\n",
              "  (768, 747),\n",
              "  (769, 743),\n",
              "  (778, 722),\n",
              "  (810, 718),\n",
              "  (801, 700),\n",
              "  (733, 719),\n",
              "  (762, 741),\n",
              "  (784, 713),\n",
              "  (742, 729),\n",
              "  (751, 721)],\n",
              " 946)"
            ]
          },
          "metadata": {}
        },
        {
          "output_type": "display_data",
          "data": {
            "text/plain": [
              "([None,\n",
              "  (270, 888),\n",
              "  (211, 866),\n",
              "  (267, 889),\n",
              "  (249, 916),\n",
              "  (243, 882),\n",
              "  (206, 894),\n",
              "  (212, 882),\n",
              "  (257, 872),\n",
              "  (239, 878),\n",
              "  (228, 857),\n",
              "  (216, 872)],\n",
              " 704)"
            ]
          },
          "metadata": {}
        },
        {
          "output_type": "display_data",
          "data": {
            "text/plain": [
              "([None,\n",
              "  (401, 754),\n",
              "  (352, 738),\n",
              "  (393, 708),\n",
              "  (363, 768),\n",
              "  (364, 763),\n",
              "  (356, 768),\n",
              "  (374, 737),\n",
              "  (346, 750),\n",
              "  (340, 751),\n",
              "  (366, 724),\n",
              "  (381, 748),\n",
              "  (402, 753),\n",
              "  (358, 711),\n",
              "  (347, 753),\n",
              "  (388, 763)],\n",
              " 908)"
            ]
          },
          "metadata": {}
        },
        {
          "output_type": "display_data",
          "data": {
            "text/plain": [
              "([None,\n",
              "  (43, 973),\n",
              "  (55, 979),\n",
              "  (38, 931),\n",
              "  (57, 976),\n",
              "  (17, 978),\n",
              "  (66, 975),\n",
              "  (29, 992),\n",
              "  (52, 990),\n",
              "  (83, 967),\n",
              "  (37, 962),\n",
              "  (40, 978),\n",
              "  (46, 985)],\n",
              " 514)"
            ]
          },
          "metadata": {}
        },
        {
          "output_type": "display_data",
          "data": {
            "text/plain": [
              "([None,\n",
              "  (793, 105),\n",
              "  (780, 101),\n",
              "  (759, 116),\n",
              "  (737, 112),\n",
              "  (724, 113),\n",
              "  (719, 113),\n",
              "  (768, 107),\n",
              "  (758, 141),\n",
              "  (729, 103),\n",
              "  (780, 145),\n",
              "  (747, 152),\n",
              "  (771, 142),\n",
              "  (718, 123),\n",
              "  (752, 147),\n",
              "  (774, 128)],\n",
              " 1018)"
            ]
          },
          "metadata": {}
        },
        {
          "output_type": "display_data",
          "data": {
            "text/plain": [
              "([None,\n",
              "  (81, 871),\n",
              "  (69, 828),\n",
              "  (58, 872),\n",
              "  (59, 873),\n",
              "  (76, 863),\n",
              "  (66, 852),\n",
              "  (82, 843),\n",
              "  (103, 882),\n",
              "  (92, 865),\n",
              "  (83, 842),\n",
              "  (84, 851),\n",
              "  (96, 869)],\n",
              " 570)"
            ]
          },
          "metadata": {}
        },
        {
          "output_type": "display_data",
          "data": {
            "text/plain": [
              "([None,\n",
              "  (264, 226),\n",
              "  (240, 188),\n",
              "  (243, 229),\n",
              "  (240, 193),\n",
              "  (263, 203),\n",
              "  (232, 187),\n",
              "  (250, 211),\n",
              "  (255, 209),\n",
              "  (225, 225),\n",
              "  (300, 210),\n",
              "  (256, 175),\n",
              "  (275, 194)],\n",
              " 666)"
            ]
          },
          "metadata": {}
        },
        {
          "output_type": "display_data",
          "data": {
            "text/plain": [
              "([None,\n",
              "  (183, 142),\n",
              "  (198, 173),\n",
              "  (188, 122),\n",
              "  (172, 178),\n",
              "  (165, 121),\n",
              "  (219, 132),\n",
              "  (166, 156),\n",
              "  (183, 158),\n",
              "  (198, 140),\n",
              "  (216, 127),\n",
              "  (174, 128),\n",
              "  (165, 119),\n",
              "  (209, 142),\n",
              "  (196, 167),\n",
              "  (148, 137)],\n",
              " 968)"
            ]
          },
          "metadata": {}
        },
        {
          "output_type": "display_data",
          "data": {
            "text/plain": [
              "([None,\n",
              "  (547, 478),\n",
              "  (542, 435),\n",
              "  (504, 430),\n",
              "  (575, 445),\n",
              "  (526, 456),\n",
              "  (531, 433),\n",
              "  (541, 422),\n",
              "  (535, 426),\n",
              "  (589, 436),\n",
              "  (533, 470),\n",
              "  (532, 426),\n",
              "  (557, 438),\n",
              "  (535, 444),\n",
              "  (550, 396),\n",
              "  (523, 422)],\n",
              " 814)"
            ]
          },
          "metadata": {}
        },
        {
          "output_type": "display_data",
          "data": {
            "text/plain": [
              "([None,\n",
              "  (382, 793),\n",
              "  (432, 798),\n",
              "  (424, 795),\n",
              "  (395, 817),\n",
              "  (422, 815),\n",
              "  (420, 833),\n",
              "  (409, 813),\n",
              "  (383, 791),\n",
              "  (389, 825),\n",
              "  (398, 819)],\n",
              " 568)"
            ]
          },
          "metadata": {}
        },
        {
          "output_type": "display_data",
          "data": {
            "text/plain": [
              "([None,\n",
              "  (589, 424),\n",
              "  (607, 440),\n",
              "  (585, 470),\n",
              "  (583, 413),\n",
              "  (616, 448),\n",
              "  (599, 465),\n",
              "  (589, 436),\n",
              "  (557, 438),\n",
              "  (575, 445),\n",
              "  (597, 443),\n",
              "  (578, 457),\n",
              "  (601, 451),\n",
              "  (592, 486),\n",
              "  (586, 498),\n",
              "  (600, 485)],\n",
              " 804)"
            ]
          },
          "metadata": {}
        },
        {
          "output_type": "display_data",
          "data": {
            "text/plain": [
              "([None,\n",
              "  (11, 270),\n",
              "  (16, 305),\n",
              "  (45, 289),\n",
              "  (35, 327),\n",
              "  (24, 320),\n",
              "  (34, 298),\n",
              "  (13, 345),\n",
              "  (12, 269),\n",
              "  (27, 281),\n",
              "  (2, 330),\n",
              "  (42, 284),\n",
              "  (14, 260),\n",
              "  (6, 286),\n",
              "  (43, 288),\n",
              "  (27, 333),\n",
              "  (14, 313)],\n",
              " 1042)"
            ]
          },
          "metadata": {}
        },
        {
          "output_type": "display_data",
          "data": {
            "text/plain": [
              "([None,\n",
              "  (930, 784),\n",
              "  (949, 791),\n",
              "  (905, 802),\n",
              "  (925, 775),\n",
              "  (964, 789),\n",
              "  (920, 758),\n",
              "  (941, 796),\n",
              "  (889, 789),\n",
              "  (936, 763),\n",
              "  (950, 802),\n",
              "  (957, 794),\n",
              "  (885, 780),\n",
              "  (939, 775),\n",
              "  (972, 785),\n",
              "  (943, 768),\n",
              "  (968, 776),\n",
              "  (924, 756),\n",
              "  (969, 776),\n",
              "  (902, 802),\n",
              "  (901, 778)],\n",
              " 1306)"
            ]
          },
          "metadata": {}
        },
        {
          "output_type": "display_data",
          "data": {
            "text/plain": [
              "([None,\n",
              "  (778, 189),\n",
              "  (782, 188),\n",
              "  (734, 204),\n",
              "  (745, 178),\n",
              "  (780, 191),\n",
              "  (752, 147),\n",
              "  (758, 141),\n",
              "  (765, 193),\n",
              "  (739, 216),\n",
              "  (733, 154),\n",
              "  (775, 169),\n",
              "  (747, 152),\n",
              "  (744, 165),\n",
              "  (726, 179),\n",
              "  (738, 164),\n",
              "  (764, 192)],\n",
              " 1052)"
            ]
          },
          "metadata": {}
        },
        {
          "output_type": "display_data",
          "data": {
            "text/plain": [
              "([None,\n",
              "  (776, 265),\n",
              "  (794, 233),\n",
              "  (839, 246),\n",
              "  (777, 264),\n",
              "  (799, 282),\n",
              "  (815, 296),\n",
              "  (816, 259),\n",
              "  (801, 266),\n",
              "  (824, 284),\n",
              "  (816, 263),\n",
              "  (808, 258),\n",
              "  (839, 259)],\n",
              " 664)"
            ]
          },
          "metadata": {}
        },
        {
          "output_type": "display_data",
          "data": {
            "text/plain": [
              "([None,\n",
              "  (743, 705),\n",
              "  (790, 668),\n",
              "  (733, 678),\n",
              "  (787, 692),\n",
              "  (783, 685),\n",
              "  (766, 664),\n",
              "  (732, 685),\n",
              "  (767, 634),\n",
              "  (748, 678),\n",
              "  (776, 669),\n",
              "  (784, 713),\n",
              "  (763, 658),\n",
              "  (767, 684),\n",
              "  (728, 674),\n",
              "  (751, 707),\n",
              "  (736, 682),\n",
              "  (760, 682),\n",
              "  (801, 700),\n",
              "  (758, 724),\n",
              "  (722, 684),\n",
              "  (798, 678)],\n",
              " 1398)"
            ]
          },
          "metadata": {}
        },
        {
          "output_type": "display_data",
          "data": {
            "text/plain": [
              "([None,\n",
              "  (708, 468),\n",
              "  (656, 496),\n",
              "  (698, 489),\n",
              "  (699, 502),\n",
              "  (717, 469),\n",
              "  (721, 500),\n",
              "  (691, 530),\n",
              "  (711, 505),\n",
              "  (729, 488),\n",
              "  (731, 500),\n",
              "  (695, 453),\n",
              "  (713, 471),\n",
              "  (683, 477),\n",
              "  (681, 510),\n",
              "  (692, 533),\n",
              "  (670, 470),\n",
              "  (720, 507),\n",
              "  (650, 488),\n",
              "  (708, 470)],\n",
              " 1358)"
            ]
          },
          "metadata": {}
        },
        {
          "output_type": "display_data",
          "data": {
            "text/plain": [
              "([None,\n",
              "  (903, 972),\n",
              "  (872, 939),\n",
              "  (842, 978),\n",
              "  (856, 948),\n",
              "  (835, 984),\n",
              "  (870, 975),\n",
              "  (898, 994),\n",
              "  (870, 952),\n",
              "  (846, 964),\n",
              "  (887, 958),\n",
              "  (837, 975)],\n",
              " 716)"
            ]
          },
          "metadata": {}
        },
        {
          "output_type": "display_data",
          "data": {
            "text/plain": [
              "([None,\n",
              "  (201, 101),\n",
              "  (234, 80),\n",
              "  (251, 69),\n",
              "  (175, 87),\n",
              "  (195, 96),\n",
              "  (213, 107),\n",
              "  (180, 65),\n",
              "  (179, 77),\n",
              "  (205, 43),\n",
              "  (237, 82),\n",
              "  (211, 75),\n",
              "  (186, 70),\n",
              "  (221, 70),\n",
              "  (234, 57),\n",
              "  (230, 50),\n",
              "  (237, 68)],\n",
              " 1080)"
            ]
          },
          "metadata": {}
        },
        {
          "output_type": "display_data",
          "data": {
            "text/plain": [
              "([None,\n",
              "  (339, 207),\n",
              "  (308, 228),\n",
              "  (319, 201),\n",
              "  (350, 208),\n",
              "  (323, 210),\n",
              "  (324, 248),\n",
              "  (300, 210),\n",
              "  (343, 225),\n",
              "  (302, 185),\n",
              "  (306, 178),\n",
              "  (338, 216),\n",
              "  (315, 245),\n",
              "  (319, 225),\n",
              "  (334, 236),\n",
              "  (346, 230)],\n",
              " 866)"
            ]
          },
          "metadata": {}
        },
        {
          "output_type": "display_data",
          "data": {
            "text/plain": [
              "([None,\n",
              "  (704, 842),\n",
              "  (684, 807),\n",
              "  (663, 835),\n",
              "  (646, 809),\n",
              "  (645, 863),\n",
              "  (696, 834),\n",
              "  (643, 861),\n",
              "  (646, 827),\n",
              "  (669, 841),\n",
              "  (699, 843),\n",
              "  (652, 813),\n",
              "  (680, 834),\n",
              "  (658, 839),\n",
              "  (641, 843),\n",
              "  (639, 812)],\n",
              " 936)"
            ]
          },
          "metadata": {}
        },
        {
          "output_type": "display_data",
          "data": {
            "text/plain": [
              "([None,\n",
              "  (395, 974),\n",
              "  (379, 979),\n",
              "  (386, 967),\n",
              "  (337, 986),\n",
              "  (344, 976),\n",
              "  (368, 993),\n",
              "  (412, 989),\n",
              "  (397, 980),\n",
              "  (334, 983),\n",
              "  (343, 987),\n",
              "  (360, 991)],\n",
              " 636)"
            ]
          },
          "metadata": {}
        },
        {
          "output_type": "display_data",
          "data": {
            "text/plain": [
              "([None,\n",
              "  (390, 935),\n",
              "  (360, 991),\n",
              "  (412, 989),\n",
              "  (397, 980),\n",
              "  (362, 973),\n",
              "  (344, 976),\n",
              "  (431, 983),\n",
              "  (392, 977),\n",
              "  (379, 979),\n",
              "  (386, 967),\n",
              "  (396, 959)],\n",
              " 618)"
            ]
          },
          "metadata": {}
        },
        {
          "output_type": "display_data",
          "data": {
            "text/plain": [
              "([None,\n",
              "  (742, 653),\n",
              "  (736, 682),\n",
              "  (728, 647),\n",
              "  (684, 666),\n",
              "  (718, 666),\n",
              "  (748, 678),\n",
              "  (695, 662),\n",
              "  (766, 664),\n",
              "  (702, 640),\n",
              "  (728, 663),\n",
              "  (707, 651),\n",
              "  (747, 685),\n",
              "  (733, 678),\n",
              "  (732, 685),\n",
              "  (704, 630),\n",
              "  (722, 684)],\n",
              " 956)"
            ]
          },
          "metadata": {}
        },
        {
          "output_type": "display_data",
          "data": {
            "text/plain": [
              "([None,\n",
              "  (70, 67),\n",
              "  (68, 70),\n",
              "  (53, 39),\n",
              "  (42, 54),\n",
              "  (70, 73),\n",
              "  (37, 118),\n",
              "  (0, 78),\n",
              "  (50, 45),\n",
              "  (36, 27),\n",
              "  (27, 44),\n",
              "  (16, 87),\n",
              "  (33, 116),\n",
              "  (37, 73)],\n",
              " 964)"
            ]
          },
          "metadata": {}
        },
        {
          "output_type": "display_data",
          "data": {
            "text/plain": [
              "([None,\n",
              "  (234, 80),\n",
              "  (244, 50),\n",
              "  (186, 70),\n",
              "  (170, 63),\n",
              "  (237, 82),\n",
              "  (251, 69),\n",
              "  (205, 43),\n",
              "  (221, 70),\n",
              "  (230, 50),\n",
              "  (242, 53),\n",
              "  (234, 57),\n",
              "  (232, 41),\n",
              "  (205, 67),\n",
              "  (180, 65),\n",
              "  (218, 61)],\n",
              " 832)"
            ]
          },
          "metadata": {}
        },
        {
          "output_type": "display_data",
          "data": {
            "text/plain": [
              "([None,\n",
              "  (904, 43),\n",
              "  (889, 14),\n",
              "  (918, 21),\n",
              "  (892, 19),\n",
              "  (909, 41),\n",
              "  (903, 33),\n",
              "  (900, 13),\n",
              "  (851, 11),\n",
              "  (882, 28),\n",
              "  (912, 36),\n",
              "  (892, 30),\n",
              "  (886, 58),\n",
              "  (893, 30),\n",
              "  (853, 10),\n",
              "  (851, 23)],\n",
              " 792)"
            ]
          },
          "metadata": {}
        },
        {
          "output_type": "display_data",
          "data": {
            "text/plain": [
              "([None,\n",
              "  (693, 918),\n",
              "  (687, 958),\n",
              "  (667, 948),\n",
              "  (659, 922),\n",
              "  (683, 933),\n",
              "  (675, 889),\n",
              "  (675, 932),\n",
              "  (642, 927),\n",
              "  (674, 964),\n",
              "  (628, 933)],\n",
              " 594)"
            ]
          },
          "metadata": {}
        },
        {
          "output_type": "display_data",
          "data": {
            "text/plain": [
              "([None,\n",
              "  (123, 534),\n",
              "  (160, 510),\n",
              "  (165, 511),\n",
              "  (121, 540),\n",
              "  (116, 491),\n",
              "  (104, 498),\n",
              "  (119, 514),\n",
              "  (110, 544),\n",
              "  (125, 480),\n",
              "  (159, 512),\n",
              "  (81, 510),\n",
              "  (110, 541),\n",
              "  (124, 475),\n",
              "  (103, 514),\n",
              "  (136, 494)],\n",
              " 1020)"
            ]
          },
          "metadata": {}
        },
        {
          "output_type": "display_data",
          "data": {
            "text/plain": [
              "([None,\n",
              "  (282, 267),\n",
              "  (272, 282),\n",
              "  (299, 278),\n",
              "  (270, 274),\n",
              "  (309, 281),\n",
              "  (270, 296),\n",
              "  (260, 278),\n",
              "  (272, 272),\n",
              "  (298, 256),\n",
              "  (252, 276),\n",
              "  (266, 280),\n",
              "  (301, 283),\n",
              "  (289, 280),\n",
              "  (307, 287),\n",
              "  (258, 270),\n",
              "  (312, 268),\n",
              "  (264, 251)],\n",
              " 858)"
            ]
          },
          "metadata": {}
        },
        {
          "output_type": "display_data",
          "data": {
            "text/plain": [
              "([None,\n",
              "  (842, 888),\n",
              "  (836, 870),\n",
              "  (847, 943),\n",
              "  (798, 916),\n",
              "  (842, 912),\n",
              "  (795, 909),\n",
              "  (856, 948),\n",
              "  (842, 877),\n",
              "  (823, 916),\n",
              "  (853, 909),\n",
              "  (796, 913),\n",
              "  (854, 874),\n",
              "  (831, 940)],\n",
              " 940)"
            ]
          },
          "metadata": {}
        },
        {
          "output_type": "display_data",
          "data": {
            "text/plain": [
              "([None,\n",
              "  (93, 217),\n",
              "  (31, 208),\n",
              "  (49, 260),\n",
              "  (15, 206),\n",
              "  (56, 220),\n",
              "  (45, 177),\n",
              "  (61, 210),\n",
              "  (36, 177),\n",
              "  (74, 213),\n",
              "  (48, 213),\n",
              "  (61, 216),\n",
              "  (35, 194),\n",
              "  (40, 173),\n",
              "  (81, 209)],\n",
              " 880)"
            ]
          },
          "metadata": {}
        },
        {
          "output_type": "display_data",
          "data": {
            "text/plain": [
              "([None,\n",
              "  (708, 470),\n",
              "  (727, 439),\n",
              "  (699, 502),\n",
              "  (711, 505),\n",
              "  (747, 485),\n",
              "  (727, 462),\n",
              "  (670, 470),\n",
              "  (725, 459),\n",
              "  (720, 507),\n",
              "  (721, 500),\n",
              "  (731, 500),\n",
              "  (683, 477),\n",
              "  (693, 467),\n",
              "  (729, 488),\n",
              "  (683, 453),\n",
              "  (724, 464),\n",
              "  (695, 453),\n",
              "  (749, 473),\n",
              "  (710, 429),\n",
              "  (713, 472),\n",
              "  (713, 471),\n",
              "  (760, 470),\n",
              "  (708, 468)],\n",
              " 1428)"
            ]
          },
          "metadata": {}
        },
        {
          "output_type": "display_data",
          "data": {
            "text/plain": [
              "([None,\n",
              "  (461, 550),\n",
              "  (424, 547),\n",
              "  (502, 547),\n",
              "  (442, 525),\n",
              "  (493, 557),\n",
              "  (441, 523),\n",
              "  (496, 562),\n",
              "  (436, 535),\n",
              "  (454, 588),\n",
              "  (450, 524),\n",
              "  (436, 548),\n",
              "  (417, 555),\n",
              "  (441, 558),\n",
              "  (443, 542),\n",
              "  (455, 560),\n",
              "  (443, 528),\n",
              "  (427, 545),\n",
              "  (435, 553),\n",
              "  (442, 578),\n",
              "  (495, 535),\n",
              "  (452, 551)],\n",
              " 1174)"
            ]
          },
          "metadata": {}
        },
        {
          "output_type": "display_data",
          "data": {
            "text/plain": [
              "([None,\n",
              "  (834, 564),\n",
              "  (835, 554),\n",
              "  (821, 536),\n",
              "  (811, 545),\n",
              "  (835, 544),\n",
              "  (796, 567),\n",
              "  (815, 558),\n",
              "  (827, 552),\n",
              "  (832, 508),\n",
              "  (818, 551),\n",
              "  (846, 526),\n",
              "  (865, 545),\n",
              "  (831, 531),\n",
              "  (827, 517),\n",
              "  (805, 572),\n",
              "  (819, 581),\n",
              "  (821, 512)],\n",
              " 948)"
            ]
          },
          "metadata": {}
        },
        {
          "output_type": "display_data",
          "data": {
            "text/plain": [
              "([None,\n",
              "  (125, 292),\n",
              "  (130, 343),\n",
              "  (126, 293),\n",
              "  (169, 318),\n",
              "  (130, 313),\n",
              "  (154, 298),\n",
              "  (156, 311),\n",
              "  (170, 314),\n",
              "  (151, 303),\n",
              "  (94, 301),\n",
              "  (90, 311),\n",
              "  (166, 324),\n",
              "  (144, 332),\n",
              "  (137, 356),\n",
              "  (142, 341),\n",
              "  (129, 291),\n",
              "  (110, 321),\n",
              "  (146, 342),\n",
              "  (103, 298),\n",
              "  (141, 328),\n",
              "  (142, 325),\n",
              "  (131, 272)],\n",
              " 1470)"
            ]
          },
          "metadata": {}
        },
        {
          "output_type": "display_data",
          "data": {
            "text/plain": [
              "([None,\n",
              "  (798, 916),\n",
              "  (795, 909),\n",
              "  (790, 898),\n",
              "  (813, 886),\n",
              "  (787, 902),\n",
              "  (789, 878),\n",
              "  (762, 889),\n",
              "  (796, 906),\n",
              "  (751, 875),\n",
              "  (813, 853),\n",
              "  (799, 845),\n",
              "  (807, 856),\n",
              "  (796, 913),\n",
              "  (810, 859),\n",
              "  (803, 868),\n",
              "  (795, 846),\n",
              "  (762, 876),\n",
              "  (788, 829)],\n",
              " 1198)"
            ]
          },
          "metadata": {}
        }
      ]
    },
    {
      "cell_type": "markdown",
      "metadata": {
        "id": "C4e1PgjPFGR5"
      },
      "source": [
        "##Algoritmo Julio"
      ]
    },
    {
      "cell_type": "code",
      "metadata": {
        "id": "XL3AZQ6XnUJu"
      },
      "source": [
        ""
      ],
      "execution_count": null,
      "outputs": []
    }
  ]
}