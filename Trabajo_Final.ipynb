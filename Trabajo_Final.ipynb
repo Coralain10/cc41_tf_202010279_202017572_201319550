{
  "nbformat": 4,
  "nbformat_minor": 0,
  "metadata": {
    "colab": {
      "name": "Trabajo_Final.ipynb",
      "provenance": [],
      "collapsed_sections": [],
      "include_colab_link": true
    },
    "kernelspec": {
      "display_name": "Python 3",
      "name": "python3"
    },
    "language_info": {
      "name": "python"
    }
  },
  "cells": [
    {
      "cell_type": "markdown",
      "metadata": {
        "id": "view-in-github",
        "colab_type": "text"
      },
      "source": [
        "<a href=\"https://colab.research.google.com/github/Coralain10/wv71_tf_202010279_202017572_201319550/blob/main/Trabajo_Final.ipynb\" target=\"_parent\"><img src=\"https://colab.research.google.com/assets/colab-badge.svg\" alt=\"Open In Colab\"/></a>"
      ]
    },
    {
      "cell_type": "markdown",
      "metadata": {
        "id": "BC0HhIWcZsCL"
      },
      "source": [
        "# Lista de adyacencia entre nodos vecinos"
      ]
    },
    {
      "cell_type": "code",
      "metadata": {
        "colab": {
          "base_uri": "https://localhost:8080/",
          "height": 35
        },
        "id": "ANE45SxvW3nJ",
        "outputId": "c060ca2e-2761-48fd-fd24-5abe90eb1628"
      },
      "source": [
        "'''\n",
        "56 57 58 59 60 61 62 63\n",
        "48 49 50 51 52 53 54 55\n",
        "40 41 42 43 44 45 46 47\n",
        "32 33 34 35 36 37 38 39\n",
        "24 25 26 27 28 29 30 31\n",
        "16 17 18 19 20 21 22 23\n",
        " 8  9 10 11 12 13 14 15\n",
        " 0  1  2  3  4  5  6  7\n",
        "\n",
        "xy\n",
        "07 17 27 37 47 57 67 77\n",
        "06 16 26 36 46 56 66 76\n",
        "05 15 25 35 45 55 65 75\n",
        "04 14 24 34 44 54 64 74\n",
        "03 13 23 33 43 53 63 73\n",
        "02 12 22 32 42 52 62 72\n",
        "01 11 21 31 41 51 61 71\n",
        "00 10 20 30 40 50 60 70\n",
        "\n",
        "32 => 3+2*8\n",
        "ngrafo = y*ancho + x\n",
        "\n",
        "00 | 01 10 => 0 | 1 8\n",
        "0+1<n 0-1>0 0+ancho<n 0-ancho>0 \n",
        "\n",
        "32 | 33 31 22 42 => 19 | 27 11 18 20\n",
        "19+1<n 19-1>0 19+ancho<n 19-ancho>0 \n",
        "\n",
        "77 | 76 67 => 63 | 55 62\n",
        "63+1<n 63-1>0 63+ancho<n 63-ancho>0 \n",
        "'''\n",
        "''"
      ],
      "execution_count": null,
      "outputs": [
        {
          "output_type": "execute_result",
          "data": {
            "application/vnd.google.colaboratory.intrinsic+json": {
              "type": "string"
            },
            "text/plain": [
              "''"
            ]
          },
          "metadata": {},
          "execution_count": 2
        }
      ]
    },
    {
      "cell_type": "markdown",
      "metadata": {
        "id": "MZle-dTkDgxz"
      },
      "source": [
        "## Función para unir nodos vecinos\n",
        "* Une los vecinos de abajo, izquierda, derecha y arriba\n",
        "* Los nodos se cuentan desde la esquina inferior izquierda hacia la esquina superior derecha.\n",
        "* Se leen de izquierda a derecha y de abajo a arriba."
      ]
    },
    {
      "cell_type": "code",
      "metadata": {
        "id": "V4F3RLV_Zo1C"
      },
      "source": [
        "def setGraphByWH(w,h): # width height\n",
        "  n = w*h\n",
        "  G = [ [] for _ in range(n) ]\n",
        "  for i, u in enumerate(G):\n",
        "    if i - w >= 0 : u.append(i - w)\n",
        "    if i - 1 >= 0 : u.append(i - 1)\n",
        "    if i + 1  < n : u.append(i + 1)\n",
        "    if i + w  < n : u.append(i + w)\n",
        "  return G\n",
        "\n",
        "def setGraphByWH2(w,h): #v2 # width height\n",
        "  n = w*h\n",
        "  G = []\n",
        "  for i in range(n):\n",
        "    u = []\n",
        "    if i - w >= 0 : u.append(i - w)\n",
        "    if i - 1 >= 0 : u.append(i - 1)\n",
        "    if i + 1  < n : u.append(i + 1)\n",
        "    if i + w  < n : u.append(i + w)\n",
        "    G.append(u)\n",
        "  return G"
      ],
      "execution_count": null,
      "outputs": []
    },
    {
      "cell_type": "code",
      "metadata": {
        "id": "ES9D5shK5fT_"
      },
      "source": [
        "#%timeit setGraphByWH(7000,7000)\n",
        "#%timeit setGraphByWH2(7000,7000) #7000 x 7100 no\n",
        "\n",
        "side = 1000 #ancho y alto de la ciudad\n",
        "G = setGraphByWH(side,side)"
      ],
      "execution_count": null,
      "outputs": []
    },
    {
      "cell_type": "code",
      "metadata": {
        "id": "MgB55EbVtsEr"
      },
      "source": [
        "fileG = open(\"lista_adyacencia.csv\",\"w\")\n",
        "for u in G:\n",
        "  fileG.write(str(u)[1:-1] + '\\n')\n",
        "fileG.close() #to change file access modes"
      ],
      "execution_count": null,
      "outputs": []
    },
    {
      "cell_type": "markdown",
      "metadata": {
        "id": "ZByaNwcnDdxM"
      },
      "source": [
        "## Funcion para diferenciar los nodos (v1)\n",
        "* Todos los nodos inician con x, y \n",
        "* Los nodos de distribución terminan en D\n",
        "* Los nodos de entrega terminan en E"
      ]
    },
    {
      "cell_type": "code",
      "metadata": {
        "id": "ymlBwsJVhjPn"
      },
      "source": [
        "# width height delivery_points[(x,y)], distribution_points[(x,y)] \n",
        "# Solo modificar los labels\n",
        "def setLabelsByPoints(G,deps,dips,w=None):\n",
        "  n = len(G)\n",
        "  if w == None: w = int(n**(1/2)) #10 | 2,1\n",
        "  labels = [f'{i%w},{i//w}' for i in range(n)] #x,y\n",
        "  for v in deps:\n",
        "    x, y = v[0], v[1]\n",
        "    pos = y*w + x\n",
        "    labels[pos] = f'{x},{y} E'\n",
        "  for v in dips:\n",
        "    x, y = v[0], v[1]\n",
        "    pos = y*w + x\n",
        "    labels[pos] = f'{x},{y} D'\n",
        "  return labels"
      ],
      "execution_count": null,
      "outputs": []
    },
    {
      "cell_type": "markdown",
      "metadata": {
        "id": "OeDhHDGxZqQM"
      },
      "source": [
        "## Funcion para diferenciar los nodos (v2)\n",
        "* **w** es el ancho de la ciudad.\n",
        "* La posición **i** del nodo en x,y es $i = y \\cdot w + x$ .\n",
        "* La posición **(x,y)** del nodo i se encuentra en $x = i\\%w $ y en $y = i//w$.\n",
        "* Solo se consideran los nodos de distribución y de entrega."
      ]
    },
    {
      "cell_type": "code",
      "metadata": {
        "id": "EoB97318ZjZV"
      },
      "source": [
        "def getNodesByXYs(xyl, w): #xylist [(x,y),(x,y),...]\n",
        "  return [xy[1]*w + xy[0] for xy in xyl]\n",
        "\n",
        "def getXYsByNodes(nl, w):\n",
        "  return [ (i%w , i//w) for i in nl ]"
      ],
      "execution_count": null,
      "outputs": []
    },
    {
      "cell_type": "markdown",
      "metadata": {
        "id": "BlCSzs1mYqZ6"
      },
      "source": [
        "# Agregar la información de los datasets\n",
        "* [x] Agregar la información de dataset de almacenes.csv.\n",
        "* [x] Agregar la información de dataset de puntos_entrega.csv."
      ]
    },
    {
      "cell_type": "code",
      "metadata": {
        "colab": {
          "base_uri": "https://localhost:8080/"
        },
        "id": "EjT9hnVigtjw",
        "outputId": "9d3840cb-2930-4e19-8f20-46a0418d203f"
      },
      "source": [
        "!wget https://raw.githubusercontent.com/Coralain10/wv71_tf_202010279_202017572_201319550/main/dataset/almacenes.csv -P dataset/\n",
        "!wget https://raw.githubusercontent.com/Coralain10/wv71_tf_202010279_202017572_201319550/main/dataset/puntos_entrega.csv -P dataset/"
      ],
      "execution_count": null,
      "outputs": [
        {
          "output_type": "stream",
          "name": "stdout",
          "text": [
            "--2021-11-25 23:48:06--  https://raw.githubusercontent.com/Coralain10/wv71_tf_202010279_202017572_201319550/main/dataset/almacenes.csv\n",
            "Resolving raw.githubusercontent.com (raw.githubusercontent.com)... 185.199.108.133, 185.199.109.133, 185.199.110.133, ...\n",
            "Connecting to raw.githubusercontent.com (raw.githubusercontent.com)|185.199.108.133|:443... connected.\n",
            "HTTP request sent, awaiting response... 200 OK\n",
            "Length: 695 [text/plain]\n",
            "Saving to: ‘dataset/almacenes.csv.6’\n",
            "\n",
            "\ralmacenes.csv.6       0%[                    ]       0  --.-KB/s               \ralmacenes.csv.6     100%[===================>]     695  --.-KB/s    in 0s      \n",
            "\n",
            "2021-11-25 23:48:06 (26.6 MB/s) - ‘dataset/almacenes.csv.6’ saved [695/695]\n",
            "\n",
            "--2021-11-25 23:48:06--  https://raw.githubusercontent.com/Coralain10/wv71_tf_202010279_202017572_201319550/main/dataset/puntos_entrega.csv\n",
            "Resolving raw.githubusercontent.com (raw.githubusercontent.com)... 185.199.108.133, 185.199.109.133, 185.199.110.133, ...\n",
            "Connecting to raw.githubusercontent.com (raw.githubusercontent.com)|185.199.108.133|:443... connected.\n",
            "HTTP request sent, awaiting response... 200 OK\n",
            "Length: 25529 (25K) [text/plain]\n",
            "Saving to: ‘dataset/puntos_entrega.csv.6’\n",
            "\n",
            "puntos_entrega.csv. 100%[===================>]  24.93K  --.-KB/s    in 0s      \n",
            "\n",
            "2021-11-25 23:48:06 (83.3 MB/s) - ‘dataset/puntos_entrega.csv.6’ saved [25529/25529]\n",
            "\n"
          ]
        }
      ]
    },
    {
      "cell_type": "code",
      "metadata": {
        "id": "-lri_MrXTBGV"
      },
      "source": [
        "def fileXYtoLst(fname):\n",
        "  xys = []\n",
        "  with open(fname) as f:\n",
        "    for line in f:\n",
        "      xys.append( tuple( map(int,line.strip().split(','))) )\n",
        "  return xys\n",
        "\n",
        "almacenes_xys = fileXYtoLst(\"dataset/almacenes.csv\")\n",
        "entrega_xys = fileXYtoLst(\"dataset/puntos_entrega.csv\")"
      ],
      "execution_count": null,
      "outputs": []
    },
    {
      "cell_type": "code",
      "metadata": {
        "id": "BqR-uUhhcFZB"
      },
      "source": [
        "almacenes_nodes = getNodesByXYs(almacenes_xys, side)\n",
        "entrega_nodes = getNodesByXYs(entrega_xys, side)"
      ],
      "execution_count": null,
      "outputs": []
    },
    {
      "cell_type": "code",
      "metadata": {
        "colab": {
          "base_uri": "https://localhost:8080/",
          "height": 70
        },
        "id": "7qYkdHKDbZlp",
        "outputId": "c6e20f69-883d-4275-95ee-1be656d09b17"
      },
      "source": [
        "'''import matplotlib.pyplot as plt\n",
        "plt.figure(figsize=(50,50))\n",
        "plt.grid(color='#AAAAAA', linestyle='-', linewidth=1)\n",
        "plt.scatter( *zip(*almacenes_xys), s=100, color=\"#ff9654\", label=\"Puntos de distibucion\")\n",
        "plt.scatter( *zip(*entrega_xys), s=100, color=\"#34c0eb\", label=\"Puntos de Entrega\")\n",
        "plt.xlabel(\"X\")\n",
        "plt.ylabel(\"Y\")\n",
        "for xy in almacenes_xys:\n",
        "  plt.annotate(None,(xy[0], xy[1]))\n",
        "for xy in entrega_xys:\n",
        "  plt.annotate(None,(xy[0], xy[1]))\n",
        "plt.legend()\n",
        "plt.xlim([0, side])\n",
        "plt.ylim([0, side])\n",
        "plt.show()'''"
      ],
      "execution_count": null,
      "outputs": [
        {
          "output_type": "execute_result",
          "data": {
            "application/vnd.google.colaboratory.intrinsic+json": {
              "type": "string"
            },
            "text/plain": [
              "'import matplotlib.pyplot as plt\\nplt.figure(figsize=(50,50))\\nplt.grid(color=\\'#AAAAAA\\', linestyle=\\'-\\', linewidth=1)\\nplt.scatter( *zip(*almacenes_xys), s=100, color=\"#ff9654\", label=\"Puntos de distibucion\")\\nplt.scatter( *zip(*entrega_xys), s=100, color=\"#34c0eb\", label=\"Puntos de Entrega\")\\nplt.xlabel(\"X\")\\nplt.ylabel(\"Y\")\\nfor xy in almacenes_xys:\\n  plt.annotate(None,(xy[0], xy[1]))\\nfor xy in entrega_xys:\\n  plt.annotate(None,(xy[0], xy[1]))\\nplt.legend()\\nplt.xlim([0, side])\\nplt.ylim([0, side])\\nplt.show()'"
            ]
          },
          "metadata": {},
          "execution_count": 11
        }
      ]
    },
    {
      "cell_type": "markdown",
      "metadata": {
        "id": "76AFrquapJ85"
      },
      "source": [
        "# Algoritmo de Dijkstra"
      ]
    },
    {
      "cell_type": "code",
      "metadata": {
        "id": "QkakSOcFpJ86"
      },
      "source": [
        "import math\n",
        "import heapq as hq\n",
        "import numpy as np"
      ],
      "execution_count": null,
      "outputs": []
    },
    {
      "cell_type": "code",
      "metadata": {
        "id": "WSkIYogmpJ88"
      },
      "source": [
        "def dijkstra(G, s):\n",
        "  n = len(G)\n",
        "  visited = [False]*n\n",
        "  path = [None]*n\n",
        "  cost = [math.inf]*n\n",
        "  cost[s] = 0\n",
        "  queue = [(0, s)]\n",
        "  while queue:\n",
        "    g_u, u = hq.heappop(queue)\n",
        "    if not visited[u]:\n",
        "      visited[u] = True\n",
        "      for v in G[u]:\n",
        "        f = g_u + 1\n",
        "        if f < cost[v]:\n",
        "          cost[v] = f\n",
        "          path[v] = u\n",
        "          hq.heappush(queue, (f, v))\n",
        "\n",
        "  return path, cost"
      ],
      "execution_count": null,
      "outputs": []
    },
    {
      "cell_type": "code",
      "metadata": {
        "id": "1Mlutxu2pJ8-"
      },
      "source": [
        "path, cost = dijkstra(G, 0)"
      ],
      "execution_count": null,
      "outputs": []
    },
    {
      "cell_type": "markdown",
      "metadata": {
        "id": "Af0kGToArr-a"
      },
      "source": [
        "## Dijkstra para cada punto de distribucion (v1)"
      ]
    },
    {
      "cell_type": "code",
      "metadata": {
        "id": "dm_fPu4qlDs7"
      },
      "source": [
        "def dijkstrapd(dis, entrega, G):\n",
        "  res=[] \n",
        "  def dijkstrav2(G, s):\n",
        "    n = len(G)\n",
        "    visited = [False]*n\n",
        "    path = [None]*n\n",
        "    cost = [math.inf]*n\n",
        "    cost[s] = 0\n",
        "    queue = [(0, s)]\n",
        "    while queue:\n",
        "      g_u, u = hq.heappop(queue)\n",
        "      if  not visited[u]: #\n",
        "        visited[u] = True\n",
        "        for v in G[u]:\n",
        "          f = g_u + 1\n",
        "          if f < cost[v]:\n",
        "            cost[v] = f\n",
        "            path[v] = u\n",
        "            hq.heappush(queue, (f, v))\n",
        "    return path, cost\n",
        "\n",
        "  for i in dis:\n",
        "    l1, l2 = dijkstrav2(G,i)\n",
        "    for j in entrega:\n",
        "      k = j\n",
        "      p = [j]\n",
        "      c = l2[j]\n",
        "      while k!=i:\n",
        "        k=l1[k]\n",
        "        p.append(k)\n",
        "      p.reverse()\n",
        "      res.append((i,j,c,p)) #formato de la lista resultante: (nodo de distribucion i, nodo de entrega j, cost, path)\n",
        "  return res"
      ],
      "execution_count": null,
      "outputs": []
    },
    {
      "cell_type": "code",
      "metadata": {
        "id": "epNwi0QktW39",
        "colab": {
          "base_uri": "https://localhost:8080/",
          "height": 310
        },
        "outputId": "5a6c28bf-cd75-4695-b9d1-d2e6eb86a1a6"
      },
      "source": [
        "djpd = dijkstrapd(almacenes_nodes, entrega_nodes,G)"
      ],
      "execution_count": null,
      "outputs": [
        {
          "output_type": "error",
          "ename": "KeyboardInterrupt",
          "evalue": "ignored",
          "traceback": [
            "\u001b[0;31m---------------------------------------------------------------------------\u001b[0m",
            "\u001b[0;31mKeyboardInterrupt\u001b[0m                         Traceback (most recent call last)",
            "\u001b[0;32m<ipython-input-16-6e5d356bf984>\u001b[0m in \u001b[0;36m<module>\u001b[0;34m()\u001b[0m\n\u001b[0;32m----> 1\u001b[0;31m \u001b[0mdjpd\u001b[0m \u001b[0;34m=\u001b[0m \u001b[0mdijkstrapd\u001b[0m\u001b[0;34m(\u001b[0m\u001b[0malmacenes_nodes\u001b[0m\u001b[0;34m,\u001b[0m \u001b[0mentrega_nodes\u001b[0m\u001b[0;34m,\u001b[0m\u001b[0mG\u001b[0m\u001b[0;34m)\u001b[0m\u001b[0;34m\u001b[0m\u001b[0;34m\u001b[0m\u001b[0m\n\u001b[0m",
            "\u001b[0;32m<ipython-input-15-3272f3e92e89>\u001b[0m in \u001b[0;36mdijkstrapd\u001b[0;34m(dis, entrega, G)\u001b[0m\n\u001b[1;32m     21\u001b[0m \u001b[0;34m\u001b[0m\u001b[0m\n\u001b[1;32m     22\u001b[0m   \u001b[0;32mfor\u001b[0m \u001b[0mi\u001b[0m \u001b[0;32min\u001b[0m \u001b[0mdis\u001b[0m\u001b[0;34m:\u001b[0m\u001b[0;34m\u001b[0m\u001b[0;34m\u001b[0m\u001b[0m\n\u001b[0;32m---> 23\u001b[0;31m     \u001b[0ml1\u001b[0m\u001b[0;34m,\u001b[0m \u001b[0ml2\u001b[0m \u001b[0;34m=\u001b[0m \u001b[0mdijkstrav2\u001b[0m\u001b[0;34m(\u001b[0m\u001b[0mG\u001b[0m\u001b[0;34m,\u001b[0m\u001b[0mi\u001b[0m\u001b[0;34m)\u001b[0m\u001b[0;34m\u001b[0m\u001b[0;34m\u001b[0m\u001b[0m\n\u001b[0m\u001b[1;32m     24\u001b[0m     \u001b[0;32mfor\u001b[0m \u001b[0mj\u001b[0m \u001b[0;32min\u001b[0m \u001b[0mentrega\u001b[0m\u001b[0;34m:\u001b[0m\u001b[0;34m\u001b[0m\u001b[0;34m\u001b[0m\u001b[0m\n\u001b[1;32m     25\u001b[0m       \u001b[0mk\u001b[0m \u001b[0;34m=\u001b[0m \u001b[0mj\u001b[0m\u001b[0;34m\u001b[0m\u001b[0;34m\u001b[0m\u001b[0m\n",
            "\u001b[0;32m<ipython-input-15-3272f3e92e89>\u001b[0m in \u001b[0;36mdijkstrav2\u001b[0;34m(G, s)\u001b[0m\n\u001b[1;32m     12\u001b[0m       \u001b[0;32mif\u001b[0m  \u001b[0;32mnot\u001b[0m \u001b[0mvisited\u001b[0m\u001b[0;34m[\u001b[0m\u001b[0mu\u001b[0m\u001b[0;34m]\u001b[0m\u001b[0;34m:\u001b[0m \u001b[0;31m#\u001b[0m\u001b[0;34m\u001b[0m\u001b[0;34m\u001b[0m\u001b[0m\n\u001b[1;32m     13\u001b[0m         \u001b[0mvisited\u001b[0m\u001b[0;34m[\u001b[0m\u001b[0mu\u001b[0m\u001b[0;34m]\u001b[0m \u001b[0;34m=\u001b[0m \u001b[0;32mTrue\u001b[0m\u001b[0;34m\u001b[0m\u001b[0;34m\u001b[0m\u001b[0m\n\u001b[0;32m---> 14\u001b[0;31m         \u001b[0;32mfor\u001b[0m \u001b[0mv\u001b[0m \u001b[0;32min\u001b[0m \u001b[0mG\u001b[0m\u001b[0;34m[\u001b[0m\u001b[0mu\u001b[0m\u001b[0;34m]\u001b[0m\u001b[0;34m:\u001b[0m\u001b[0;34m\u001b[0m\u001b[0;34m\u001b[0m\u001b[0m\n\u001b[0m\u001b[1;32m     15\u001b[0m           \u001b[0mf\u001b[0m \u001b[0;34m=\u001b[0m \u001b[0mg_u\u001b[0m \u001b[0;34m+\u001b[0m \u001b[0;36m1\u001b[0m\u001b[0;34m\u001b[0m\u001b[0;34m\u001b[0m\u001b[0m\n\u001b[1;32m     16\u001b[0m           \u001b[0;32mif\u001b[0m \u001b[0mf\u001b[0m \u001b[0;34m<\u001b[0m \u001b[0mcost\u001b[0m\u001b[0;34m[\u001b[0m\u001b[0mv\u001b[0m\u001b[0;34m]\u001b[0m\u001b[0;34m:\u001b[0m\u001b[0;34m\u001b[0m\u001b[0;34m\u001b[0m\u001b[0m\n",
            "\u001b[0;31mKeyboardInterrupt\u001b[0m: "
          ]
        }
      ]
    },
    {
      "cell_type": "code",
      "metadata": {
        "id": "hdbO_eSMsno4"
      },
      "source": [
        "def showDj1(l:list, qv=10, qh=10):\n",
        "  qv = min( len(l), qv )\n",
        "  qh = min( len(l[0][-1]), qh )\n",
        "  for i in range(qv):\n",
        "    print( l[i][0], l[i][1], l[i][2], \n",
        "          str(l[i][3][:qh])[:-1], '...]', sep = ',' )\n",
        "  print('...')\n",
        "showDj1(djpd)"
      ],
      "execution_count": null,
      "outputs": []
    },
    {
      "cell_type": "markdown",
      "metadata": {
        "id": "wuGK0cF0fV23"
      },
      "source": [
        "#Algoritmos"
      ]
    },
    {
      "cell_type": "code",
      "metadata": {
        "id": "t4KQfeZ3DmNM"
      },
      "source": [
        "def distancia(p1, p2):\n",
        "  x1, y1 = p1\n",
        "  x2, y2 = p2\n",
        "  # return math.sqrt((x2-x1)**2+(y2-y1)**2)\n",
        "  return abs(x2-x1)+abs(y2-y1)\n",
        "\n",
        "def getnodo(p, side):\n",
        "  x, y = p\n",
        "  return y*side + x"
      ],
      "execution_count": null,
      "outputs": []
    },
    {
      "cell_type": "code",
      "metadata": {
        "id": "DvxwIjjl-mSn"
      },
      "source": [
        "def asignacion(dist, ent):\n",
        "  res = [] # [[dist1, emt1, ent2, entn],[dist2, ent1, ent2, entn],...]\n",
        "  for i in dist:\n",
        "    l = [getnodo(i,side)]\n",
        "    for j in ent:\n",
        "      if distancia(i,j)<=50:\n",
        "        l.append(getnodo(j,side))\n",
        "    res.append(l)\n",
        "  return res\n"
      ],
      "execution_count": null,
      "outputs": []
    },
    {
      "cell_type": "code",
      "metadata": {
        "id": "z0G7vYjB_VNm"
      },
      "source": [
        "dist = fileXYtoLst(\"dataset/almacenes.csv\")\n",
        "ent = fileXYtoLst(\"dataset/puntos_entrega.csv\")"
      ],
      "execution_count": null,
      "outputs": []
    },
    {
      "cell_type": "code",
      "metadata": {
        "id": "imbG7aLh_q2Q"
      },
      "source": [
        "l = asignacion(dist,ent)"
      ],
      "execution_count": null,
      "outputs": []
    },
    {
      "cell_type": "code",
      "metadata": {
        "id": "cZ0R0aq7_rmu"
      },
      "source": [
        "def separacion(l):\n",
        "  l1 = []\n",
        "  l2 = []\n",
        "  l3 = []\n",
        "  for i in l:\n",
        "    if len(i)<15:\n",
        "      l1.append(i)\n",
        "    elif len(i)>=15 and len(i)<25:\n",
        "      l2.append(i)\n",
        "    else:\n",
        "      l3.append(i)\n",
        "  return l1,l2,l3"
      ],
      "execution_count": null,
      "outputs": []
    },
    {
      "cell_type": "code",
      "metadata": {
        "id": "_1EVsEP1Ca5G"
      },
      "source": [
        "d, c, j = separacion(l)"
      ],
      "execution_count": null,
      "outputs": []
    },
    {
      "cell_type": "markdown",
      "metadata": {
        "id": "r3goRz76E-lj"
      },
      "source": [
        "##Algoritmo Diego (Fuerza bruta)"
      ]
    },
    {
      "cell_type": "code",
      "metadata": {
        "id": "mkYxrG-TSa5Q"
      },
      "source": [
        "from itertools import permutations"
      ],
      "execution_count": null,
      "outputs": []
    },
    {
      "cell_type": "code",
      "metadata": {
        "id": "moR41ajeE-IT"
      },
      "source": [
        "def distanciacuadras(n1, n2):\n",
        "  m1 = n1//1000\n",
        "  m2 = n2//1000\n",
        "  dist = 0\n",
        "  while n1!=n2:\n",
        "    if m1>m2:\n",
        "      n1-=1000\n",
        "      m1-=1\n",
        "    elif m2>m1:\n",
        "      n1+=1000\n",
        "      m1+=1\n",
        "    else:\n",
        "      if n1>n2:\n",
        "        n1-=1\n",
        "      if n2>n1:\n",
        "        n1+=1\n",
        "    dist+=1\n",
        "  return dist\n",
        "\n",
        "def tsp(l):\n",
        "  l2 = l.copy()\n",
        "  inicio = l2.pop(0)\n",
        "  permutaciones = list(permutations(l2))\n",
        "  res = []\n",
        "  dist = float('inf')\n",
        "  for i in permutaciones:\n",
        "    d = distanciacuadras(inicio, i[0])\n",
        "    for j in range(1, len(i)):\n",
        "      d += distanciacuadras(i[j],i[j-1])\n",
        "    d += distanciacuadras(inicio,i[len(i)-1])\n",
        "    if d<dist:\n",
        "      res=list(i)\n",
        "      dist=d\n",
        "  res.insert(0,inicio)\n",
        "  res.append(inicio)\n",
        "  return res, dist"
      ],
      "execution_count": null,
      "outputs": []
    },
    {
      "cell_type": "code",
      "metadata": {
        "id": "tFS_tshtHuF1"
      },
      "source": [
        "def algoritmoD(d):\n",
        "  for i in d:\n",
        "    l, dist = tsp(i)\n",
        "    print(f'Desde el punto de distribución {i.pop(0)} un carro entrego pedidos a los puntos de entrega: {i}, recorriendo {dist} cuadras, por la ruta: {l}')"
      ],
      "execution_count": null,
      "outputs": []
    },
    {
      "cell_type": "code",
      "metadata": {
        "id": "xWetY5WTa2fm",
        "colab": {
          "base_uri": "https://localhost:8080/"
        },
        "outputId": "b2d1fbe0-8af3-4a26-a8b3-3e1750cd7ffa"
      },
      "source": [
        "algoritmoD(d)"
      ],
      "execution_count": null,
      "outputs": [
        {
          "output_type": "stream",
          "name": "stdout",
          "text": [
            "Desde el punto de distribución 994935 un carro entrego pedidos a los puntos de entrega: [991955, 970961, 972903, 994898, 960952, 975880], recorriendo 230 cuadras, por la ruta: [994935, 991955, 970961, 960952, 972903, 975880, 994898, 994935]\n",
            "Desde el punto de distribución 891023 un carro entrego pedidos a los puntos de entrega: [847001, 931038, 929020, 907011, 939024, 860017, 908019, 929011, 872058, 873059], recorriendo 326 cuadras, por la ruta: [891023, 847001, 860017, 872058, 873059, 931038, 939024, 929020, 929011, 907011, 908019, 891023]\n"
          ]
        }
      ]
    },
    {
      "cell_type": "markdown",
      "metadata": {
        "id": "XtvfBP7hFCkm"
      },
      "source": [
        "##Algoritmo Carolain"
      ]
    },
    {
      "cell_type": "code",
      "metadata": {
        "id": "C8YUeE1WnVGW"
      },
      "source": [
        ""
      ],
      "execution_count": null,
      "outputs": []
    },
    {
      "cell_type": "markdown",
      "metadata": {
        "id": "C4e1PgjPFGR5"
      },
      "source": [
        "##Algoritmo Julio"
      ]
    },
    {
      "cell_type": "code",
      "metadata": {
        "id": "XL3AZQ6XnUJu"
      },
      "source": [
        ""
      ],
      "execution_count": null,
      "outputs": []
    }
  ]
}