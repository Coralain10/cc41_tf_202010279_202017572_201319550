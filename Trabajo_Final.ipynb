{
  "nbformat": 4,
  "nbformat_minor": 0,
  "metadata": {
    "colab": {
      "name": "Trabajo_Final.ipynb",
      "provenance": [],
      "include_colab_link": true
    },
    "kernelspec": {
      "display_name": "Python 3",
      "name": "python3"
    },
    "language_info": {
      "name": "python"
    }
  },
  "cells": [
    {
      "cell_type": "markdown",
      "metadata": {
        "id": "view-in-github",
        "colab_type": "text"
      },
      "source": [
        "<a href=\"https://colab.research.google.com/github/Coralain10/wv71_tf_202010279_202017572_201319550/blob/main/Trabajo_Final.ipynb\" target=\"_parent\"><img src=\"https://colab.research.google.com/assets/colab-badge.svg\" alt=\"Open In Colab\"/></a>"
      ]
    },
    {
      "cell_type": "markdown",
      "metadata": {
        "id": "BC0HhIWcZsCL"
      },
      "source": [
        "# Lista de adyacencia entre nodos vecinos"
      ]
    },
    {
      "cell_type": "code",
      "metadata": {
        "colab": {
          "base_uri": "https://localhost:8080/",
          "height": 35
        },
        "id": "ANE45SxvW3nJ",
        "outputId": "89d2ce40-6cb1-44a2-85b0-0e72f36fdd0c"
      },
      "source": [
        "'''\n",
        "56 57 58 59 60 61 62 63\n",
        "48 49 50 51 52 53 54 55\n",
        "40 41 42 43 44 45 46 47\n",
        "32 33 34 35 36 37 38 39\n",
        "24 25 26 27 28 29 30 31\n",
        "16 17 18 19 20 21 22 23\n",
        " 8  9 10 11 12 13 14 15\n",
        " 0  1  2  3  4  5  6  7\n",
        "\n",
        "xy\n",
        "07 17 27 37 47 57 67 77\n",
        "06 16 26 36 46 56 66 76\n",
        "05 15 25 35 45 55 65 75\n",
        "04 14 24 34 44 54 64 74\n",
        "03 13 23 33 43 53 63 73\n",
        "02 12 22 32 42 52 62 72\n",
        "01 11 21 31 41 51 61 71\n",
        "00 10 20 30 40 50 60 70\n",
        "\n",
        "32 => 3+2*8\n",
        "ngrafo = y*ancho + x\n",
        "\n",
        "00 | 01 10 => 0 | 1 8\n",
        "0+1<n 0-1>0 0+ancho<n 0-ancho>0 \n",
        "\n",
        "32 | 33 31 22 42 => 19 | 27 11 18 20\n",
        "19+1<n 19-1>0 19+ancho<n 19-ancho>0 \n",
        "\n",
        "77 | 76 67 => 63 | 55 62\n",
        "63+1<n 63-1>0 63+ancho<n 63-ancho>0 \n",
        "'''\n",
        "''"
      ],
      "execution_count": 1,
      "outputs": [
        {
          "output_type": "execute_result",
          "data": {
            "application/vnd.google.colaboratory.intrinsic+json": {
              "type": "string"
            },
            "text/plain": [
              "''"
            ]
          },
          "metadata": {},
          "execution_count": 1
        }
      ]
    },
    {
      "cell_type": "markdown",
      "metadata": {
        "id": "MZle-dTkDgxz"
      },
      "source": [
        "## Función para unir nodos vecinos\n",
        "* Une los vecinos de abajo, izquierda, derecha y arriba\n",
        "* Los nodos se cuentan desde la esquina inferior izquierda hacia la esquina superior derecha.\n",
        "* Se leen de izquierda a derecha y de abajo a arriba."
      ]
    },
    {
      "cell_type": "code",
      "metadata": {
        "id": "V4F3RLV_Zo1C"
      },
      "source": [
        "def setGraphByWH(w,h): # width height\n",
        "  n = w*h\n",
        "  G = [ [] for _ in range(n) ]\n",
        "  for i, u in enumerate(G):\n",
        "    if i - w >= 0 : u.append(i - w)\n",
        "    if i - 1 >= 0 : u.append(i - 1)\n",
        "    if i + 1  < n : u.append(i + 1)\n",
        "    if i + w  < n : u.append(i + w)\n",
        "  return G\n",
        "\n",
        "def setGraphByWH2(w,h): #v2 # width height\n",
        "  n = w*h\n",
        "  G = []\n",
        "  for i in range(n):\n",
        "    u = []\n",
        "    if i - w >= 0 : u.append(i - w)\n",
        "    if i - 1 >= 0 : u.append(i - 1)\n",
        "    if i + 1  < n : u.append(i + 1)\n",
        "    if i + w  < n : u.append(i + w)\n",
        "    G.append(u)\n",
        "  return G"
      ],
      "execution_count": 2,
      "outputs": []
    },
    {
      "cell_type": "code",
      "metadata": {
        "id": "ES9D5shK5fT_"
      },
      "source": [
        "#%timeit setGraphByWH(7000,7000)\n",
        "#%timeit setGraphByWH2(7000,7000) #7000 x 7100 no\n",
        "\n",
        "side = 1000 #ancho y alto de la ciudad\n",
        "G = setGraphByWH(side,side)"
      ],
      "execution_count": 3,
      "outputs": []
    },
    {
      "cell_type": "code",
      "metadata": {
        "id": "MgB55EbVtsEr"
      },
      "source": [
        "fileG = open(\"lista_adyacencia.csv\",\"w\")\n",
        "for u in G:\n",
        "  fileG.write(str(u)[1:-1] + '\\n')\n",
        "fileG.close() #to change file access modes"
      ],
      "execution_count": 4,
      "outputs": []
    },
    {
      "cell_type": "markdown",
      "metadata": {
        "id": "ZByaNwcnDdxM"
      },
      "source": [
        "## Funcion para diferenciar los nodos (v1)\n",
        "* Todos los nodos inician con x, y \n",
        "* Los nodos de distribución terminan en D\n",
        "* Los nodos de entrega terminan en E"
      ]
    },
    {
      "cell_type": "code",
      "metadata": {
        "id": "ymlBwsJVhjPn"
      },
      "source": [
        "# width height delivery_points[(x,y)], distribution_points[(x,y)] \n",
        "# Solo modificar los labels\n",
        "def setLabelsByPoints(G,deps,dips,w=None):\n",
        "  n = len(G)\n",
        "  if w == None: w = int(n**(1/2)) #10 | 2,1\n",
        "  labels = [f'{i%w},{i//w}' for i in range(n)] #x,y\n",
        "  for v in deps:\n",
        "    x, y = v[0], v[1]\n",
        "    pos = y*w + x\n",
        "    labels[pos] = f'{x},{y} E'\n",
        "  for v in dips:\n",
        "    x, y = v[0], v[1]\n",
        "    pos = y*w + x\n",
        "    labels[pos] = f'{x},{y} D'\n",
        "  return labels"
      ],
      "execution_count": 5,
      "outputs": []
    },
    {
      "cell_type": "markdown",
      "metadata": {
        "id": "OeDhHDGxZqQM"
      },
      "source": [
        "## Funcion para diferenciar los nodos (v2)\n",
        "* **w** es el ancho de la ciudad.\n",
        "* La posición **i** del nodo en x,y es $i = y \\cdot w + x$ .\n",
        "* La posición **(x,y)** del nodo i se encuentra en $x = i\\%w $ y en $y = i//w$.\n",
        "* Solo se consideran los nodos de distribución y de entrega."
      ]
    },
    {
      "cell_type": "code",
      "metadata": {
        "id": "EoB97318ZjZV"
      },
      "source": [
        "def getNodesByXYs(xyl, w): #xylist [(x,y),(x,y),...]\n",
        "  return [xy[1]*w + xy[0] for xy in xyl]\n",
        "\n",
        "def getXYsByNodes(nl, w):\n",
        "  return [ (i%w , i//w) for i in nl ]"
      ],
      "execution_count": 6,
      "outputs": []
    },
    {
      "cell_type": "markdown",
      "metadata": {
        "id": "BlCSzs1mYqZ6"
      },
      "source": [
        "# Agregar la información de los datasets\n",
        "* [x] Agregar la información de dataset de almacenes.csv.\n",
        "* [x] Agregar la información de dataset de puntos_entrega.csv."
      ]
    },
    {
      "cell_type": "code",
      "metadata": {
        "colab": {
          "base_uri": "https://localhost:8080/"
        },
        "id": "EjT9hnVigtjw",
        "outputId": "505ba874-e437-42f1-c214-56aae1c65577"
      },
      "source": [
        "!wget https://raw.githubusercontent.com/Coralain10/wv71_tf_202010279_202017572_201319550/main/dataset/almacenes.csv -P dataset/\n",
        "!wget https://raw.githubusercontent.com/Coralain10/wv71_tf_202010279_202017572_201319550/main/dataset/puntos_entrega.csv -P dataset/"
      ],
      "execution_count": 7,
      "outputs": [
        {
          "output_type": "stream",
          "name": "stdout",
          "text": [
            "--2021-11-25 16:37:18--  https://raw.githubusercontent.com/Coralain10/wv71_tf_202010279_202017572_201319550/main/dataset/almacenes.csv\n",
            "Resolving raw.githubusercontent.com (raw.githubusercontent.com)... 185.199.108.133, 185.199.109.133, 185.199.110.133, ...\n",
            "Connecting to raw.githubusercontent.com (raw.githubusercontent.com)|185.199.108.133|:443... connected.\n",
            "HTTP request sent, awaiting response... 200 OK\n",
            "Length: 695 [text/plain]\n",
            "Saving to: ‘dataset/almacenes.csv’\n",
            "\n",
            "almacenes.csv       100%[===================>]     695  --.-KB/s    in 0s      \n",
            "\n",
            "2021-11-25 16:37:19 (43.5 MB/s) - ‘dataset/almacenes.csv’ saved [695/695]\n",
            "\n",
            "--2021-11-25 16:37:19--  https://raw.githubusercontent.com/Coralain10/wv71_tf_202010279_202017572_201319550/main/dataset/puntos_entrega.csv\n",
            "Resolving raw.githubusercontent.com (raw.githubusercontent.com)... 185.199.108.133, 185.199.109.133, 185.199.110.133, ...\n",
            "Connecting to raw.githubusercontent.com (raw.githubusercontent.com)|185.199.108.133|:443... connected.\n",
            "HTTP request sent, awaiting response... 200 OK\n",
            "Length: 25529 (25K) [text/plain]\n",
            "Saving to: ‘dataset/puntos_entrega.csv’\n",
            "\n",
            "puntos_entrega.csv  100%[===================>]  24.93K  --.-KB/s    in 0.001s  \n",
            "\n",
            "2021-11-25 16:37:19 (22.3 MB/s) - ‘dataset/puntos_entrega.csv’ saved [25529/25529]\n",
            "\n"
          ]
        }
      ]
    },
    {
      "cell_type": "code",
      "metadata": {
        "id": "-lri_MrXTBGV"
      },
      "source": [
        "def fileXYtoLst(fname):\n",
        "  xys = []\n",
        "  with open(fname) as f:\n",
        "    for line in f:\n",
        "      xys.append( tuple( map(int,line.strip().split(','))) )\n",
        "  return xys\n",
        "\n",
        "almacenes_xys = fileXYtoLst(\"dataset/almacenes.csv\")\n",
        "entrega_xys = fileXYtoLst(\"dataset/puntos_entrega.csv\")"
      ],
      "execution_count": 8,
      "outputs": []
    },
    {
      "cell_type": "code",
      "metadata": {
        "id": "BqR-uUhhcFZB"
      },
      "source": [
        "almacenes_nodes = getNodesByXYs(almacenes_xys, side)\n",
        "entrega_nodes = getNodesByXYs(entrega_xys, side)"
      ],
      "execution_count": 9,
      "outputs": []
    },
    {
      "cell_type": "code",
      "metadata": {
        "colab": {
          "base_uri": "https://localhost:8080/",
          "height": 70
        },
        "id": "7qYkdHKDbZlp",
        "outputId": "7ba62158-a66d-4dab-c661-123059dfc4de"
      },
      "source": [
        "'''import matplotlib.pyplot as plt\n",
        "plt.figure(figsize=(50,50))\n",
        "plt.grid(color='#AAAAAA', linestyle='-', linewidth=1)\n",
        "plt.scatter( *zip(*almacenes_xys), s=100, color=\"#ff9654\", label=\"Puntos de distibucion\")\n",
        "plt.scatter( *zip(*entrega_xys), s=100, color=\"#34c0eb\", label=\"Puntos de Entrega\")\n",
        "plt.xlabel(\"X\")\n",
        "plt.ylabel(\"Y\")\n",
        "for xy in almacenes_xys:\n",
        "  plt.annotate(None,(xy[0], xy[1]))\n",
        "for xy in entrega_xys:\n",
        "  plt.annotate(None,(xy[0], xy[1]))\n",
        "plt.legend()\n",
        "plt.xlim([0, side])\n",
        "plt.ylim([0, side])\n",
        "plt.show()'''"
      ],
      "execution_count": 10,
      "outputs": [
        {
          "output_type": "execute_result",
          "data": {
            "application/vnd.google.colaboratory.intrinsic+json": {
              "type": "string"
            },
            "text/plain": [
              "'import matplotlib.pyplot as plt\\nplt.figure(figsize=(50,50))\\nplt.grid(color=\\'#AAAAAA\\', linestyle=\\'-\\', linewidth=1)\\nplt.scatter( *zip(*almacenes_xys), s=100, color=\"#ff9654\", label=\"Puntos de distibucion\")\\nplt.scatter( *zip(*entrega_xys), s=100, color=\"#34c0eb\", label=\"Puntos de Entrega\")\\nplt.xlabel(\"X\")\\nplt.ylabel(\"Y\")\\nfor xy in almacenes_xys:\\n  plt.annotate(None,(xy[0], xy[1]))\\nfor xy in entrega_xys:\\n  plt.annotate(None,(xy[0], xy[1]))\\nplt.legend()\\nplt.xlim([0, side])\\nplt.ylim([0, side])\\nplt.show()'"
            ]
          },
          "metadata": {},
          "execution_count": 10
        }
      ]
    },
    {
      "cell_type": "markdown",
      "metadata": {
        "id": "76AFrquapJ85"
      },
      "source": [
        "# Algoritmo de Dijkstra"
      ]
    },
    {
      "cell_type": "code",
      "metadata": {
        "id": "QkakSOcFpJ86"
      },
      "source": [
        "import math\n",
        "import heapq as hq\n",
        "import numpy as np"
      ],
      "execution_count": 11,
      "outputs": []
    },
    {
      "cell_type": "code",
      "metadata": {
        "id": "WSkIYogmpJ88"
      },
      "source": [
        "def dijkstra(G, s):\n",
        "  n = len(G)\n",
        "  visited = [False]*n\n",
        "  path = [None]*n\n",
        "  cost = [math.inf]*n\n",
        "  cost[s] = 0\n",
        "  queue = [(0, s)]\n",
        "  while queue:\n",
        "    g_u, u = hq.heappop(queue)\n",
        "    if not visited[u]:\n",
        "      visited[u] = True\n",
        "      for v in G[u]:\n",
        "        f = g_u + 1\n",
        "        if f < cost[v]:\n",
        "          cost[v] = f\n",
        "          path[v] = u\n",
        "          hq.heappush(queue, (f, v))\n",
        "\n",
        "  return path, cost"
      ],
      "execution_count": 16,
      "outputs": []
    },
    {
      "cell_type": "code",
      "metadata": {
        "id": "1Mlutxu2pJ8-"
      },
      "source": [
        "path, cost = dijkstra(G, 0)"
      ],
      "execution_count": 17,
      "outputs": []
    },
    {
      "cell_type": "markdown",
      "metadata": {
        "id": "Af0kGToArr-a"
      },
      "source": [
        "## Dijkstra para cada punto de distribucion (v1)"
      ]
    },
    {
      "cell_type": "code",
      "metadata": {
        "id": "dm_fPu4qlDs7"
      },
      "source": [
        "def dijkstrapd(dis, entrega, G):\n",
        "  res=[] \n",
        "  def dijkstrav2(G, s):\n",
        "    n = len(G)\n",
        "    visited = [False]*n\n",
        "    path = [None]*n\n",
        "    cost = [math.inf]*n\n",
        "    cost[s] = 0\n",
        "    queue = [(0, s)]\n",
        "    while queue:\n",
        "      g_u, u = hq.heappop(queue)\n",
        "      if  not visited[u]: #\n",
        "        visited[u] = True\n",
        "        for v in G[u]:\n",
        "          f = g_u + 1\n",
        "          if f < cost[v]:\n",
        "            cost[v] = f\n",
        "            path[v] = u\n",
        "            hq.heappush(queue, (f, v))\n",
        "    return path, cost\n",
        "\n",
        "  for i in dis:\n",
        "    l1, l2 = dijkstrav2(G,i)\n",
        "    for j in entrega:\n",
        "      k = j\n",
        "      p = [j]\n",
        "      c = l2[j]\n",
        "      while k!=i:\n",
        "        k=l1[k]\n",
        "        p.append(k)\n",
        "      p.reverse()\n",
        "      res.append((i,j,c,p)) #formato de la lista resultante: (nodo de distribucion i, nodo de entrega j, cost, path)\n",
        "  return res"
      ],
      "execution_count": 18,
      "outputs": []
    },
    {
      "cell_type": "code",
      "metadata": {
        "id": "epNwi0QktW39"
      },
      "source": [
        "djpd = dijkstrapd(almacenes_nodes, entrega_nodes,G)"
      ],
      "execution_count": 19,
      "outputs": []
    },
    {
      "cell_type": "code",
      "metadata": {
        "colab": {
          "base_uri": "https://localhost:8080/"
        },
        "id": "hdbO_eSMsno4",
        "outputId": "bdf238c7-546e-4289-bf35-218caa8caf0d"
      },
      "source": [
        "def showDj1(l:list, qv=10, qh=10):\n",
        "  qv = min( len(l), qv )\n",
        "  qh = min( len(l[0][-1]), qh )\n",
        "  for i in range(qv):\n",
        "    print( l[i][0], l[i][1], l[i][2], \n",
        "          str(l[i][3][:qh])[:-1], '...]', sep = ',' )\n",
        "  print('...')\n",
        "showDj1(djpd)"
      ],
      "execution_count": 21,
      "outputs": [
        {
          "output_type": "stream",
          "name": "stdout",
          "text": [
            "891193,622283,359,[891193, 890193, 889193, 888193, 887193, 886193, 885193, 884193, 883193, 882193,...]\n",
            "891193,274440,864,[891193, 890193, 889193, 888193, 887193, 886193, 885193, 884193, 883193, 882193,...]\n",
            "891193,893469,278,[891193, 891194, 891195, 891196, 891197, 891198, 891199, 891200, 891201, 891202,...]\n",
            "891193,337414,775,[891193, 890193, 889193, 888193, 887193, 886193, 885193, 884193, 883193, 882193,...]\n",
            "891193,358823,902,[891193, 890193, 889193, 888193, 887193, 886193, 885193, 884193, 883193, 882193,...]\n",
            "891193,847001,236,[891193, 890193, 889193, 888193, 887193, 886193, 885193, 884193, 883193, 882193,...]\n",
            "891193,430504,772,[891193, 890193, 889193, 888193, 887193, 886193, 885193, 884193, 883193, 882193,...]\n",
            "891193,166465,997,[891193, 890193, 889193, 888193, 887193, 886193, 885193, 884193, 883193, 882193,...]\n",
            "891193,758724,601,[891193, 890193, 889193, 888193, 887193, 886193, 885193, 884193, 883193, 882193,...]\n",
            "891193,878502,322,[891193, 890193, 889193, 888193, 887193, 886193, 885193, 884193, 883193, 882193,...]\n",
            "...\n"
          ]
        }
      ]
    },
    {
      "cell_type": "code",
      "metadata": {
        "id": "t4KQfeZ3DmNM"
      },
      "source": [
        "def distancia(p1, p2):\n",
        "  x1, y1 = p1\n",
        "  x2, y2 = p2\n",
        "  return math.sqrt((x2-x1)**2+(y2-y1)**2)\n",
        "\n",
        "def getnodo(p, side):\n",
        "  x, y = p\n",
        "  return y*side + x"
      ],
      "execution_count": 46,
      "outputs": []
    },
    {
      "cell_type": "code",
      "metadata": {
        "id": "DvxwIjjl-mSn"
      },
      "source": [
        "def asignacion(dist, ent):\n",
        "  res = [] # [[dist1, emt1, ent2, entn],[dist2, ent1, ent2, entn],...]\n",
        "  for i in dist:\n",
        "    l = [getnodo(i,side)]\n",
        "    for j in ent:\n",
        "      if distancia(i,j)<=50:\n",
        "        l.append(getnodo(j,side))\n",
        "    res.append(l)\n",
        "  return res\n"
      ],
      "execution_count": 55,
      "outputs": []
    },
    {
      "cell_type": "code",
      "metadata": {
        "id": "z0G7vYjB_VNm"
      },
      "source": [
        "dist = fileXYtoLst(\"dataset/almacenes.csv\")\n",
        "ent = fileXYtoLst(\"dataset/puntos_entrega.csv\")"
      ],
      "execution_count": 48,
      "outputs": []
    },
    {
      "cell_type": "code",
      "metadata": {
        "id": "imbG7aLh_q2Q"
      },
      "source": [
        "l = asignacion(dist,ent)"
      ],
      "execution_count": 83,
      "outputs": []
    },
    {
      "cell_type": "code",
      "metadata": {
        "id": "cZ0R0aq7_rmu"
      },
      "source": [
        "def separacion(l):\n",
        "  l1 = []\n",
        "  l2 = []\n",
        "  l3 = []\n",
        "  for i in l:\n",
        "    if len(i)<20:\n",
        "      l1.append(i)\n",
        "    elif len(i)>=20 and len(i)<25:\n",
        "      l2.append(i)\n",
        "    else:\n",
        "      l3.append(i)\n",
        "  return l1,l2,l3"
      ],
      "execution_count": 77,
      "outputs": []
    },
    {
      "cell_type": "code",
      "metadata": {
        "id": "_1EVsEP1Ca5G"
      },
      "source": [
        "s, c, j = separacion(l)"
      ],
      "execution_count": 78,
      "outputs": []
    },
    {
      "cell_type": "code",
      "metadata": {
        "id": "rII9_1hJDZ0Q"
      },
      "source": [
        ""
      ],
      "execution_count": 83,
      "outputs": []
    },
    {
      "cell_type": "code",
      "metadata": {
        "id": "BOBeN6k9DayO"
      },
      "source": [
        ""
      ],
      "execution_count": null,
      "outputs": []
    }
  ]
}