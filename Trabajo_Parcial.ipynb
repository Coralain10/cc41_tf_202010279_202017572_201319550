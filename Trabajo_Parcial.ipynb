{
  "nbformat": 4,
  "nbformat_minor": 0,
  "metadata": {
    "colab": {
      "name": "Trabajo_Parcial",
      "provenance": [],
      "collapsed_sections": [],
      "include_colab_link": true
    },
    "kernelspec": {
      "name": "python3",
      "display_name": "Python 3"
    },
    "language_info": {
      "name": "python"
    }
  },
  "cells": [
    {
      "cell_type": "markdown",
      "metadata": {
        "id": "view-in-github",
        "colab_type": "text"
      },
      "source": [
        "<a href=\"https://colab.research.google.com/github/Coralain10/wv71_tf_202010279_202017572_201319550/blob/main/Trabajo_Parcial.ipynb\" target=\"_parent\"><img src=\"https://colab.research.google.com/assets/colab-badge.svg\" alt=\"Open In Colab\"/></a>"
      ]
    },
    {
      "cell_type": "markdown",
      "metadata": {
        "id": "36fJviTC1WFo"
      },
      "source": [
        "#Trabajo Parcial"
      ]
    },
    {
      "cell_type": "markdown",
      "metadata": {
        "id": "kGt4bohf1YF1"
      },
      "source": [
        "##Creacion de dataset"
      ]
    },
    {
      "cell_type": "code",
      "metadata": {
        "id": "JJvC2MZK3H95"
      },
      "source": [
        "from random import randint\n",
        "import numpy as np\n",
        "import matplotlib.pyplot as plt\n",
        "import pandas as pd\n",
        "import math"
      ],
      "execution_count": 1,
      "outputs": []
    },
    {
      "cell_type": "code",
      "metadata": {
        "id": "h557zHM70WBs"
      },
      "source": [
        "nd = np.random.randint(50,100)\n",
        "ne = np.random.randint(2500, 5000)\n",
        "npuntos = nd+ne\n",
        "distribucion, entrega = [], []\n",
        "for i in range(npuntos):\n",
        "  if i < nd:\n",
        "    a = (randint(0,1000),randint(0,1000))\n",
        "    while a in distribucion:\n",
        "      a = (randint(0,1000),randint(0,1000))\n",
        "    distribucion.append(a)\n",
        "  else:\n",
        "    a = (randint(0,1000),randint(0,1000))\n",
        "    while a in distribucion or a in entrega:\n",
        "      a = (randint(0,1000),randint(0,1000))\n",
        "    entrega.append(a)\n",
        "puntos=distribucion+entrega"
      ],
      "execution_count": 2,
      "outputs": []
    },
    {
      "cell_type": "code",
      "metadata": {
        "id": "NkNp7scUzVnY"
      },
      "source": [
        "np.savetxt(\"puntos_entrega.csv\", entrega, delimiter=\",\",fmt='%.1i')\n",
        "np.savetxt(\"almacenes.csv\", distribucion, delimiter=\",\",fmt='%.1i')"
      ],
      "execution_count": 8,
      "outputs": []
    },
    {
      "cell_type": "code",
      "metadata": {
        "id": "P0SX4OkIiIHD",
        "colab": {
          "base_uri": "https://localhost:8080/",
          "height": 34
        },
        "outputId": "79324644-058d-4aef-ba0d-8678ecc3bdad"
      },
      "source": [
        "'''def distancia(a,b):\n",
        "  x1, y1 = a\n",
        "  x2, y2 = b\n",
        "  return math.sqrt((x2-x1)**2+(y2-y1)**2)\n",
        "def adyacencia(l):\n",
        "  n=len(l)\n",
        "  G=[0]*n\n",
        "  for i in range(n):\n",
        "    G[i]=[0]*n\n",
        "  for i in range(n):\n",
        "    for j in range(n):\n",
        "      if j>i:\n",
        "        d=distancia(l[i],l[j])\n",
        "        gas=randint(5,15)\n",
        "        G[i][j]=(round(d),gas)\n",
        "      elif i>j:\n",
        "        G[i][j]=G[j][i]\n",
        "  return G'''\n",
        "''"
      ],
      "execution_count": 4,
      "outputs": [
        {
          "output_type": "execute_result",
          "data": {
            "application/vnd.google.colaboratory.intrinsic+json": {
              "type": "string"
            },
            "text/plain": [
              "''"
            ]
          },
          "metadata": {},
          "execution_count": 4
        }
      ]
    },
    {
      "cell_type": "code",
      "metadata": {
        "id": "or5-u6VXebLp"
      },
      "source": [
        "#G=adyacencia(puntos)\n",
        "\n",
        "#G = [] # formato nodo(i), nodo(f), distancia\n",
        "# primero se consideran los puntos de distribucion\n",
        "#luego los puntos de entrega\n",
        "#for i in range(nd): #distribucion\n",
        "  #for j in range(nd, nd + ne): #entrega\n",
        "    #dist = distancia( distribucionx[i], entregax[i], distribuciony[i], entregay[i] )\n",
        "    #if dist < 5000: #G.append( i, j,  )\n",
        "#for i in range(nd, nd + ne):\n",
        "  #for j in range(i+1, nd + ne -1): \n",
        "    #G.append(i)\n",
        "# \n",
        "#pd.DataFrame([0,1,2])\n",
        "#df = pd.DataFrame(data=G,columns=['Inicio','Fin','Distancia'])\n"
      ],
      "execution_count": 6,
      "outputs": []
    },
    {
      "cell_type": "markdown",
      "metadata": {
        "id": "xVjTgyAU0vYF"
      },
      "source": [
        "##Algoritmo (Coralain)"
      ]
    },
    {
      "cell_type": "code",
      "metadata": {
        "id": "tZCJqK9c1KVP"
      },
      "source": [
        ""
      ],
      "execution_count": null,
      "outputs": []
    },
    {
      "cell_type": "markdown",
      "metadata": {
        "id": "7Xd0B5Dl1Ky3"
      },
      "source": [
        "##Algoritmo (Diego)"
      ]
    },
    {
      "cell_type": "code",
      "metadata": {
        "id": "abBkBEzB1Mxd"
      },
      "source": [
        ""
      ],
      "execution_count": null,
      "outputs": []
    },
    {
      "cell_type": "markdown",
      "metadata": {
        "id": "o9IKLCi81NdE"
      },
      "source": [
        "##Algoritmo (Julio)"
      ]
    },
    {
      "cell_type": "code",
      "metadata": {
        "id": "Br8UNcNg1Qjv"
      },
      "source": [
        ""
      ],
      "execution_count": null,
      "outputs": []
    },
    {
      "cell_type": "markdown",
      "metadata": {
        "id": "TTjj1PKc1RBk"
      },
      "source": [
        ""
      ]
    }
  ]
}
