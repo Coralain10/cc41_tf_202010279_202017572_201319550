{
  "nbformat": 4,
  "nbformat_minor": 0,
  "metadata": {
    "colab": {
      "name": "Trabajo Parcialipynb",
      "provenance": [],
      "authorship_tag": "ABX9TyMNTzvpEy5+HF/ii/Kz2PUS",
      "include_colab_link": true
    },
    "kernelspec": {
      "name": "python3",
      "display_name": "Python 3"
    },
    "language_info": {
      "name": "python"
    }
  },
  "cells": [
    {
      "cell_type": "markdown",
      "metadata": {
        "id": "view-in-github",
        "colab_type": "text"
      },
      "source": [
        "<a href=\"https://colab.research.google.com/github/Coralain10/wv71_tf_202010279_202017572_201319550/blob/main/Trabajo_Parcialipynb.ipynb\" target=\"_parent\"><img src=\"https://colab.research.google.com/assets/colab-badge.svg\" alt=\"Open In Colab\"/></a>"
      ]
    },
    {
      "cell_type": "markdown",
      "metadata": {
        "id": "36fJviTC1WFo"
      },
      "source": [
        "#Trabajo Parcial"
      ]
    },
    {
      "cell_type": "markdown",
      "metadata": {
        "id": "kGt4bohf1YF1"
      },
      "source": [
        "##Creacion de dataset"
      ]
    },
    {
      "cell_type": "code",
      "metadata": {
        "id": "h557zHM70WBs"
      },
      "source": [
        "def Generador(distibucion){\n",
        "    \n",
        "}"
      ],
      "execution_count": null,
      "outputs": []
    },
    {
      "cell_type": "markdown",
      "metadata": {
        "id": "xVjTgyAU0vYF"
      },
      "source": [
        "##Algoritmo (Coralain)"
      ]
    },
    {
      "cell_type": "code",
      "metadata": {
        "id": "tZCJqK9c1KVP"
      },
      "source": [
        ""
      ],
      "execution_count": null,
      "outputs": []
    },
    {
      "cell_type": "markdown",
      "metadata": {
        "id": "7Xd0B5Dl1Ky3"
      },
      "source": [
        "##Algoritmo (Diego)"
      ]
    },
    {
      "cell_type": "code",
      "metadata": {
        "id": "abBkBEzB1Mxd"
      },
      "source": [
        ""
      ],
      "execution_count": null,
      "outputs": []
    },
    {
      "cell_type": "markdown",
      "metadata": {
        "id": "o9IKLCi81NdE"
      },
      "source": [
        "##Algoritmo (Julio)"
      ]
    },
    {
      "cell_type": "code",
      "metadata": {
        "id": "Br8UNcNg1Qjv"
      },
      "source": [
        ""
      ],
      "execution_count": null,
      "outputs": []
    },
    {
      "cell_type": "markdown",
      "metadata": {
        "id": "TTjj1PKc1RBk"
      },
      "source": [
        ""
      ]
    }
  ]
}